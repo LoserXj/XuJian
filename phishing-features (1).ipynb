{
 "metadata": {
  "kernelspec": {
   "language": "python",
   "display_name": "Python 3",
   "name": "python3"
  },
  "language_info": {
   "name": "python",
   "version": "3.7.12",
   "mimetype": "text/x-python",
   "codemirror_mode": {
    "name": "ipython",
    "version": 3
   },
   "pygments_lexer": "ipython3",
   "nbconvert_exporter": "python",
   "file_extension": ".py"
  }
 },
 "nbformat_minor": 4,
 "nbformat": 4,
 "cells": [
  {
   "cell_type": "code",
   "source": [
    "# This Python 3 environment comes with many helpful analytics libraries installed\n",
    "# It is defined by the kaggle/python Docker image: https://github.com/kaggle/docker-python\n",
    "# For example, here's several helpful packages to load\n",
    "\n",
    "import numpy as np # linear algebra\n",
    "import pandas as pd # data processing, CSV file I/O (e.g. pd.read_csv)\n",
    "\n",
    "# Input data files are available in the read-only \"../input/\" directory\n",
    "# For example, running this (by clicking run or pressing Shift+Enter) will list all files under the input directory\n",
    "\n",
    "import os\n",
    "for dirname, _, filenames in os.walk('/kaggle/input'):\n",
    "    for filename in filenames:\n",
    "        print(os.path.join(dirname, filename))\n",
    "\n",
    "# You can write up to 20GB to the current directory (/kaggle/working/) that gets preserved as output when you create a version using \"Save & Run All\" \n",
    "# You can also write temporary files to /kaggle/temp/, but they won't be saved outside of the current session"
   ],
   "metadata": {
    "_uuid": "8f2839f25d086af736a60e9eeb907d3b93b6e0e5",
    "_cell_guid": "b1076dfc-b9ad-4769-8c92-a6c4dae69d19",
    "execution": {
     "iopub.status.busy": "2022-10-21T12:04:28.203082Z",
     "iopub.execute_input": "2022-10-21T12:04:28.203510Z",
     "iopub.status.idle": "2022-10-21T12:04:28.218683Z",
     "shell.execute_reply.started": "2022-10-21T12:04:28.203478Z",
     "shell.execute_reply": "2022-10-21T12:04:28.217617Z"
    },
    "trusted": true,
    "pycharm": {
     "name": "#%%\n"
    }
   },
   "execution_count": 37,
   "outputs": [
    {
     "name": "stdout",
     "text": "/kaggle/input/ethereum-phishing-transaction-network/Ethereum Phishing Transaction Network/README.txt\n/kaggle/input/ethereum-phishing-transaction-network/Ethereum Phishing Transaction Network/MulDiGraph.pkl\n",
     "output_type": "stream"
    }
   ]
  },
  {
   "cell_type": "code",
   "source": [
    "import platform\n",
    "import pickle\n",
    "import networkx as nx"
   ],
   "metadata": {
    "execution": {
     "iopub.status.busy": "2022-10-21T12:04:28.221574Z",
     "iopub.execute_input": "2022-10-21T12:04:28.222105Z",
     "iopub.status.idle": "2022-10-21T12:04:28.227740Z",
     "shell.execute_reply.started": "2022-10-21T12:04:28.222051Z",
     "shell.execute_reply": "2022-10-21T12:04:28.226740Z"
    },
    "trusted": true,
    "pycharm": {
     "name": "#%%\n"
    }
   },
   "execution_count": 38,
   "outputs": []
  },
  {
   "cell_type": "code",
   "source": [
    "def load_pickle(fname):\n",
    "    with open(fname, 'rb') as f:\n",
    "        return pickle.load(f)"
   ],
   "metadata": {
    "execution": {
     "iopub.status.busy": "2022-10-21T12:04:28.229131Z",
     "iopub.execute_input": "2022-10-21T12:04:28.231020Z",
     "iopub.status.idle": "2022-10-21T12:04:28.242482Z",
     "shell.execute_reply.started": "2022-10-21T12:04:28.230951Z",
     "shell.execute_reply": "2022-10-21T12:04:28.240748Z"
    },
    "trusted": true,
    "pycharm": {
     "name": "#%%\n"
    }
   },
   "execution_count": 39,
   "outputs": []
  },
  {
   "cell_type": "code",
   "source": [
    "import random\n",
    "def getRandom():\n",
    "    random.seed(2973489)\n",
    "    random_list=[]\n",
    "    for i in range(10):\n",
    "        random_list.append(random.randint(1,2973489))\n",
    "    return random_list"
   ],
   "metadata": {
    "execution": {
     "iopub.status.busy": "2022-10-21T12:04:28.246435Z",
     "iopub.execute_input": "2022-10-21T12:04:28.246927Z",
     "iopub.status.idle": "2022-10-21T12:04:28.255208Z",
     "shell.execute_reply.started": "2022-10-21T12:04:28.246883Z",
     "shell.execute_reply": "2022-10-21T12:04:28.253653Z"
    },
    "trusted": true,
    "pycharm": {
     "name": "#%%\n"
    }
   },
   "execution_count": 40,
   "outputs": []
  },
  {
   "cell_type": "code",
   "source": [
    "def getPhishingSet(G):\n",
    "    phishingSet=set()\n",
    "    for idx,nd in enumerate(nx.nodes(G)):\n",
    "        if G.nodes[nd]['isp']==1:\n",
    "            phishingSet.add(nd)\n",
    "    return phishingSet"
   ],
   "metadata": {
    "execution": {
     "iopub.status.busy": "2022-10-21T12:04:28.256599Z",
     "iopub.execute_input": "2022-10-21T12:04:28.258267Z",
     "iopub.status.idle": "2022-10-21T12:04:28.268079Z",
     "shell.execute_reply.started": "2022-10-21T12:04:28.258139Z",
     "shell.execute_reply": "2022-10-21T12:04:28.267182Z"
    },
    "trusted": true,
    "pycharm": {
     "name": "#%%\n"
    }
   },
   "execution_count": 41,
   "outputs": []
  },
  {
   "cell_type": "code",
   "source": [
    "import random\n",
    "\n",
    "def RandomSelectNode(G,randomNum,size):\n",
    "\n",
    "    legal_node_set=set()\n",
    "    for ind,nd in enumerate(nx.nodes(G)):\n",
    "\n",
    "        if ind>=randomNum:\n",
    "            \n",
    "            legal_node_set.add(nd)\n",
    "            suc=list(G.successors(nd))\n",
    "            pre=list(G.predecessors(nd))\n",
    "\n",
    "            for i in range(len(suc)):\n",
    "                if len(legal_node_set)>=size:\n",
    "                    break\n",
    "                legal_node_set.add(suc[i])\n",
    "\n",
    "            for i in range(len(pre)):\n",
    "                if len(legal_node_set)>=size:\n",
    "                    break\n",
    "                legal_node_set.add(pre[i])\n",
    "\n",
    "\n",
    "            while len(legal_node_set)<size:\n",
    "                isWho=random.randint(0,1)\n",
    "                isOut=False\n",
    "                node_select=None\n",
    "                if len(suc)==0:\n",
    "                    isWho=1\n",
    "                if len(pre)==0:\n",
    "                    isWho=0\n",
    "                if isWho==0:\n",
    "                    choose=random.randint(0,len(suc)-1)\n",
    "                    node_select=suc[choose]\n",
    "                if isWho==1:\n",
    "                    choose=random.randint(0,len(pre)-1)\n",
    "                    node_select=pre[choose]\n",
    "                legal_node_set.add(node_select)\n",
    "                suc=list(G.successors(node_select))\n",
    "                pre=list(G.predecessors(node_select))\n",
    "                for i in range(len(suc)):\n",
    "                    if len(legal_node_set)>=size:\n",
    "                        isOut=True\n",
    "                        break\n",
    "                    legal_node_set.add(suc[i])\n",
    "\n",
    "                if isOut:\n",
    "                    break\n",
    "                for i in range(len(pre)):\n",
    "                    if len(legal_node_set)>=size:\n",
    "                        isOut=True\n",
    "                        break\n",
    "                    legal_node_set.add(pre[i])\n",
    "\n",
    "                if isOut:\n",
    "                    break\n",
    "            if len(legal_node_set)>=size:\n",
    "                break\n",
    "    return legal_node_set"
   ],
   "metadata": {
    "execution": {
     "iopub.status.busy": "2022-10-21T12:04:28.269640Z",
     "iopub.execute_input": "2022-10-21T12:04:28.270393Z",
     "iopub.status.idle": "2022-10-21T12:04:28.286840Z",
     "shell.execute_reply.started": "2022-10-21T12:04:28.270348Z",
     "shell.execute_reply": "2022-10-21T12:04:28.285229Z"
    },
    "trusted": true,
    "pycharm": {
     "name": "#%%\n"
    }
   },
   "execution_count": 42,
   "outputs": []
  },
  {
   "cell_type": "code",
   "source": [
    "import csv\n",
    "\n",
    "def RandomLabel(legal_node_set,G):\n",
    "\n",
    "    legal_node_list=list(legal_node_set)\n",
    "    with open('RandomLabel1.csv','w',newline='') as file:\n",
    "        writer=csv.writer(file)\n",
    "        writer.writerow(['account','isp'])\n",
    "        for i in range(len(legal_node_list)):\n",
    "            data=[]\n",
    "            data.append(legal_node_list[i])\n",
    "            data.append(G.nodes[legal_node_list[i]]['isp'])\n",
    "            writer.writerow(data)"
   ],
   "metadata": {
    "execution": {
     "iopub.status.busy": "2022-10-21T12:04:28.287950Z",
     "iopub.execute_input": "2022-10-21T12:04:28.288921Z",
     "iopub.status.idle": "2022-10-21T12:04:28.305209Z",
     "shell.execute_reply.started": "2022-10-21T12:04:28.288883Z",
     "shell.execute_reply": "2022-10-21T12:04:28.304237Z"
    },
    "trusted": true,
    "pycharm": {
     "name": "#%%\n"
    }
   },
   "execution_count": 43,
   "outputs": []
  },
  {
   "cell_type": "code",
   "source": [
    "def getNodeData(legal_node_list,G):\n",
    "    node_data=[]\n",
    "    for i in range(len(legal_node_list)):\n",
    "        node=legal_node_list[i]\n",
    "        node_data_temp=[]\n",
    "        time=[]\n",
    "        time_min=99999999\n",
    "        time_max=0\n",
    "        amount=[]\n",
    "        in_time=[]\n",
    "        in_time_min=99999999\n",
    "        in_time_max=0\n",
    "        in_amount=[]\n",
    "        node_set=set()\n",
    "        pre=list(G.predecessors(node))\n",
    "        for j in range(len(pre)):\n",
    "            for v in G[pre[j]][node].values():\n",
    "                in_time.append(v['amount'])\n",
    "                in_amount.append(v['timestamp'])\n",
    "                if v['timestamp']>in_time_max:\n",
    "                    in_time_max=v['timestamp']\n",
    "                if v['timestamp']<in_time_min:\n",
    "                    in_time_min=v['timestamp']\n",
    "\n",
    "\n",
    "        for i,v in dict(G[node]).items():\n",
    "            node_set.add(i)\n",
    "            for v1 in v.values():\n",
    "                time.append(v1['timestamp'])\n",
    "                amount.append(v1['amount'])\n",
    "                if v1['timestamp']>time_max:\n",
    "                    time_max=v1['timestamp']\n",
    "                if v1['timestamp']<time_min:\n",
    "                    time_min=v1['timestamp']\n",
    "\n",
    "        if len(time)>0:\n",
    "            out_block_std=statistics.pstdev(time)\n",
    "            out_time_ptp=time_max-time_min\n",
    "            amount_sum=sum(amount)\n",
    "            amount_max=max(amount)\n",
    "            amount_min=min(amount)\n",
    "            amount_mean=statistics.mean(amount)\n",
    "            amount_std=statistics.pstdev(amount)\n",
    "            count=len(time)\n",
    "            unique=len(node_set)\n",
    "            unique_ratio=unique/count\n",
    "\n",
    "        if len(time)<=0 :\n",
    "            out_block_std=0\n",
    "            out_time_ptp=0\n",
    "            amount_sum=0\n",
    "            amount_max=0\n",
    "            amount_min=0\n",
    "            amount_mean=0\n",
    "            amount_std=0\n",
    "            count=0\n",
    "            unique=0\n",
    "            unique_ratio=0\n",
    "\n",
    "        if len(in_time)>0:\n",
    "            in_block_std=statistics.pstdev(in_time)\n",
    "            in_time_ptp=in_time_max-in_time_min\n",
    "            in_amount_sum=sum(in_amount)\n",
    "            in_amount_max=max(in_amount)\n",
    "            in_amount_min=min(in_amount)\n",
    "            in_amount_mean=statistics.mean(in_amount)\n",
    "            in_amount_std=statistics.pstdev(in_amount)\n",
    "            in_count=len(in_time)\n",
    "            in_unique=len(node_set)\n",
    "            in_unique_ratio=in_unique/in_count\n",
    "\n",
    "        if len(in_time)<=0:\n",
    "            in_block_std=0\n",
    "            in_time_ptp=0\n",
    "            in_amount_sum=0\n",
    "            in_amount_max=0\n",
    "            in_amount_min=0\n",
    "            in_amount_mean=0\n",
    "            in_amount_std=0\n",
    "            in_count=0\n",
    "            in_unique=0\n",
    "            in_unique_ratio=0\n",
    "\n",
    "        node_data_temp.append(node)\n",
    "        node_data_temp.append(out_block_std)\n",
    "        node_data_temp.append(out_time_ptp)\n",
    "        node_data_temp.append(amount_sum)\n",
    "        node_data_temp.append(amount_max)\n",
    "        node_data_temp.append(amount_min)\n",
    "        node_data_temp.append(amount_mean)\n",
    "        node_data_temp.append(amount_std)\n",
    "        node_data_temp.append(count)\n",
    "        node_data_temp.append(unique)\n",
    "        node_data_temp.append(unique_ratio)\n",
    "\n",
    "        node_data_temp.append(in_block_std)\n",
    "        node_data_temp.append(in_time_ptp)\n",
    "        node_data_temp.append(in_amount_sum)\n",
    "        node_data_temp.append(in_amount_max)\n",
    "        node_data_temp.append(in_amount_min)\n",
    "        node_data_temp.append(in_amount_mean)\n",
    "        node_data_temp.append(in_amount_std)\n",
    "        node_data_temp.append(in_count)\n",
    "        node_data_temp.append(in_unique)\n",
    "        node_data_temp.append(in_unique_ratio)\n",
    "\n",
    "\n",
    "\n",
    "\n",
    "\n",
    "        node_data.append(node_data_temp)\n",
    "    return node_data"
   ],
   "metadata": {
    "execution": {
     "iopub.status.busy": "2022-10-21T12:04:28.399274Z",
     "iopub.execute_input": "2022-10-21T12:04:28.399700Z",
     "iopub.status.idle": "2022-10-21T12:04:28.421286Z",
     "shell.execute_reply.started": "2022-10-21T12:04:28.399661Z",
     "shell.execute_reply": "2022-10-21T12:04:28.419484Z"
    },
    "trusted": true,
    "pycharm": {
     "name": "#%%\n"
    }
   },
   "execution_count": 44,
   "outputs": []
  },
  {
   "cell_type": "code",
   "source": [
    "def getAllToFriendsOutDirectionFeatures(legal_node_list,G):\n",
    "    To_Out_Fea=[]\n",
    "    for i in range(len(legal_node_list)):\n",
    "        To_Out_Fea_Temp=[]\n",
    "        To_Out_Fea_Temp.append(legal_node_list[i])\n",
    "        suc=list(G.successors(legal_node_list[i]))\n",
    "        to_out_sum_media=0\n",
    "        to_out_min_std=0\n",
    "        to_out_sum_min=0\n",
    "        media=[]\n",
    "        std=[]\n",
    "        min_list=[]\n",
    "        for j in range(len(suc)):\n",
    "            cal_amount=[]\n",
    "\n",
    "            temp_min=999999999\n",
    "            for i,v in dict(G[suc[j]]).items():\n",
    "                for v1 in v.values():\n",
    "                    cal_amount.append(v1['amount'])\n",
    "                    if temp_min>v1['amount']:\n",
    "                        temp_min=v1['amount']\n",
    "            if len(cal_amount)>0:\n",
    "                media.append(statistics.mean(cal_amount))\n",
    "                std.append(statistics.pstdev(cal_amount))\n",
    "                min_list.append(temp_min)\n",
    "        if len(media)>0:\n",
    "            to_out_sum_media=sum(media)\n",
    "        if len(media)<=0:\n",
    "            to_out_sum_media=0\n",
    "        if len(std)>0:\n",
    "            to_out_min_std=min(std)\n",
    "        if len(std)<=0:\n",
    "            to_out_min_std=0\n",
    "        if len(min_list)>0:\n",
    "            to_out_sum_min=sum(min_list)\n",
    "        if len(min_list)<=0:\n",
    "            to_out_sum_min=0\n",
    "        To_Out_Fea_Temp.append(to_out_sum_media)\n",
    "        To_Out_Fea_Temp.append(to_out_min_std)\n",
    "        To_Out_Fea_Temp.append(to_out_sum_min)\n",
    "\n",
    "        To_Out_Fea.append(To_Out_Fea_Temp)\n",
    "    return  To_Out_Fea\n"
   ],
   "metadata": {
    "execution": {
     "iopub.status.busy": "2022-10-21T12:04:28.424503Z",
     "iopub.execute_input": "2022-10-21T12:04:28.425761Z",
     "iopub.status.idle": "2022-10-21T12:04:28.440675Z",
     "shell.execute_reply.started": "2022-10-21T12:04:28.425714Z",
     "shell.execute_reply": "2022-10-21T12:04:28.439213Z"
    },
    "trusted": true,
    "pycharm": {
     "name": "#%%\n"
    }
   },
   "execution_count": 45,
   "outputs": []
  },
  {
   "cell_type": "code",
   "source": [
    "import statistics\n",
    "def getAllFromFriendsInDirectionFeatures(legal_node_list,G):\n",
    "    From_In_Fea=[]\n",
    "    for i in range(len(legal_node_list)):\n",
    "        From_In_Fea_Temp=[]\n",
    "        From_In_Fea_Temp.append(legal_node_list[i])\n",
    "        pre=list(G.predecessors(legal_node_list[i]))\n",
    "        from_in_sum_min=0\n",
    "        from_in_min_std=0\n",
    "        from_in_min_sum=0\n",
    "        from_in_mean_sum=0\n",
    "        sum_list=[]\n",
    "        std=[]\n",
    "        min_list=[]\n",
    "        for j in range(len(pre)):\n",
    "            cal_amount=[]\n",
    "            temp_min=9999999\n",
    "            preFriend=list(G.predecessors(pre[j]))\n",
    "            for k in range(len(preFriend)):\n",
    "                for v in G[preFriend[k]][pre[j]].values():\n",
    "                    cal_amount.append(v['amount'])\n",
    "                    if temp_min>v['amount']:\n",
    "                        temp_min=v['amount']\n",
    "            if len(cal_amount)>0:\n",
    "                sum_list.append(sum(cal_amount))\n",
    "                std.append(statistics.pstdev(cal_amount))\n",
    "                min_list.append(temp_min)\n",
    "        if len(min_list)>0:\n",
    "            from_in_sum_min=sum(min_list)\n",
    "        if len(min_list)<=0:\n",
    "            from_in_sum_min=0\n",
    "        if len(std)>0:\n",
    "            from_in_min_std=min(std)\n",
    "        if len(std)<=0:\n",
    "            from_in_min_std=0\n",
    "        if len(sum_list)>0:\n",
    "            from_in_min_sum=min(sum_list)\n",
    "            from_in_mean_sum=statistics.mean(sum_list)\n",
    "        if len(sum_list)<=0:\n",
    "            from_in_min_sum=0\n",
    "            from_in_mean_sum=0\n",
    "        From_In_Fea_Temp.append(from_in_sum_min)\n",
    "        From_In_Fea_Temp.append(from_in_min_std)\n",
    "        From_In_Fea_Temp.append(from_in_min_sum)\n",
    "        From_In_Fea_Temp.append(from_in_mean_sum)\n",
    "        From_In_Fea.append(From_In_Fea_Temp)\n",
    "\n",
    "    return From_In_Fea\n"
   ],
   "metadata": {
    "execution": {
     "iopub.status.busy": "2022-10-21T12:04:28.442322Z",
     "iopub.execute_input": "2022-10-21T12:04:28.442981Z",
     "iopub.status.idle": "2022-10-21T12:04:28.459733Z",
     "shell.execute_reply.started": "2022-10-21T12:04:28.442938Z",
     "shell.execute_reply": "2022-10-21T12:04:28.457982Z"
    },
    "trusted": true,
    "pycharm": {
     "name": "#%%\n"
    }
   },
   "execution_count": 46,
   "outputs": []
  },
  {
   "cell_type": "code",
   "source": [
    "import numpy as np\n",
    "def getRandomFeatures(node_data,To_Out_Fea,From_In_Fea):\n",
    "    node_data_np=np.array(node_data)\n",
    "    To_Out_Fea_np=np.array(To_Out_Fea)\n",
    "    To_Out_Fea_np=To_Out_Fea_np[:,1:]\n",
    "    From_In_Fea_np=np.array(From_In_Fea)\n",
    "    From_In_Fea_np=From_In_Fea_np[:,1:]\n",
    "    node_features=np.hstack((node_data_np,To_Out_Fea_np))\n",
    "    node_features=np.hstack((node_features,From_In_Fea_np))\n",
    "    \n",
    "    with open('RandomNodeFeatures.csv','w',newline='') as file:\n",
    "        writer=csv.writer(file)\n",
    "        writer.writerow(['account','out_block_std','out_time_ptp','out_amount_sum','out_amount_max','out_amount_min'\n",
    "                    ,'out_amount_mean','out_amount_std','out_count','out_unique',\n",
    "                    'out_unique_ratio',\n",
    "                    'in_block_std','in_time_ptp','in_amount_sum','in_amount_max','in_amount_min'\n",
    "                    ,'in_amount_mean','in_amount_std','in_count','in_unique',\n",
    "                    'in_unique_ratio','to_out_sum_media','to_out_min_std','to_out_sum_min',\n",
    "                     'from_in_sum_min','from_in_min_std','from_in_min_sum','from_in_mean_sum'\n",
    "                     \n",
    "                    ])\n",
    "        for i in range(len(node_features)):\n",
    "            writer.writerow(node_features[i])"
   ],
   "metadata": {
    "execution": {
     "iopub.status.busy": "2022-10-21T12:04:28.461254Z",
     "iopub.execute_input": "2022-10-21T12:04:28.463039Z",
     "iopub.status.idle": "2022-10-21T12:04:28.480337Z",
     "shell.execute_reply.started": "2022-10-21T12:04:28.462964Z",
     "shell.execute_reply": "2022-10-21T12:04:28.478579Z"
    },
    "trusted": true,
    "pycharm": {
     "name": "#%%\n"
    }
   },
   "execution_count": 47,
   "outputs": []
  },
  {
   "cell_type": "code",
   "source": [
    "G = load_pickle('../input/ethereum-phishing-transaction-network/Ethereum Phishing Transaction Network/MulDiGraph.pkl')\n",
    "random_list=getRandom()\n",
    "phishingSet=getPhishingSet(G)\n",
    "print(random_list[0])\n",
    "legal_node_set=RandomSelectNode(G,random_list[0],2600)\n",
    "count=0\n",
    "for node in iter(phishingSet):\n",
    "    if node not in legal_node_set:\n",
    "        legal_node_set.add(node)\n",
    "        count+=1\n",
    "    if count>=100:\n",
    "        break    \n",
    "legal_node_list=list(legal_node_set)\n",
    "node_data=getNodeData(legal_node_list,G)\n",
    "To_Out_Fea=getAllToFriendsOutDirectionFeatures(legal_node_list,G)\n",
    "From_In_Fea=getAllFromFriendsInDirectionFeatures(legal_node_list,G)\n",
    "RandomLabel(legal_node_set,G)\n",
    "getRandomFeatures(node_data,To_Out_Fea,From_In_Fea)"
   ],
   "metadata": {
    "execution": {
     "iopub.status.busy": "2022-10-21T12:04:28.482813Z",
     "iopub.execute_input": "2022-10-21T12:04:28.483230Z",
     "iopub.status.idle": "2022-10-21T12:08:39.804412Z",
     "shell.execute_reply.started": "2022-10-21T12:04:28.483199Z",
     "shell.execute_reply": "2022-10-21T12:08:39.802276Z"
    },
    "trusted": true,
    "pycharm": {
     "name": "#%%\n"
    }
   },
   "execution_count": 48,
   "outputs": [
    {
     "name": "stdout",
     "text": "1921733\n",
     "output_type": "stream"
    }
   ]
  },
  {
   "cell_type": "code",
   "source": [
    "for i in range(len(node_data)):\n",
    "    if (node_data[i][0]!=To_Out_Fea[i][0]) or (node_data[i][0]!=From_In_Fea[i][0]) or (To_Out_Fea[i][0]!=From_In_Fea[i][0]):\n",
    "        print(\"数据没对上\")\n",
    "        break\n",
    "print(\"顺利结束\")"
   ],
   "metadata": {
    "execution": {
     "iopub.status.busy": "2022-10-21T12:08:39.806241Z",
     "iopub.execute_input": "2022-10-21T12:08:39.806609Z",
     "iopub.status.idle": "2022-10-21T12:08:39.815535Z",
     "shell.execute_reply.started": "2022-10-21T12:08:39.806577Z",
     "shell.execute_reply": "2022-10-21T12:08:39.814546Z"
    },
    "trusted": true,
    "pycharm": {
     "name": "#%%\n"
    }
   },
   "execution_count": 49,
   "outputs": [
    {
     "name": "stdout",
     "text": "顺利结束\n",
     "output_type": "stream"
    }
   ]
  },
  {
   "cell_type": "code",
   "source": [
    "RandomLabel(legal_node_set,G)\n",
    "getRandomFeatures(node_data,To_Out_Fea,From_In_Fea)"
   ],
   "metadata": {
    "execution": {
     "iopub.status.busy": "2022-10-21T12:08:39.817231Z",
     "iopub.execute_input": "2022-10-21T12:08:39.817953Z",
     "iopub.status.idle": "2022-10-21T12:08:39.918846Z",
     "shell.execute_reply.started": "2022-10-21T12:08:39.817916Z",
     "shell.execute_reply": "2022-10-21T12:08:39.917989Z"
    },
    "trusted": true,
    "pycharm": {
     "name": "#%%\n"
    }
   },
   "execution_count": 50,
   "outputs": []
  },
  {
   "cell_type": "code",
   "source": [],
   "metadata": {
    "pycharm": {
     "name": "#%%\n"
    }
   },
   "execution_count": null,
   "outputs": []
  }
 ]
}