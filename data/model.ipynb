{
 "cells": [
  {
   "cell_type": "markdown",
   "source": [
    " 1. 进行knn模型测试"
   ],
   "metadata": {
    "collapsed": false,
    "pycharm": {
     "name": "#%% md\n"
    }
   }
  },
  {
   "cell_type": "code",
   "execution_count": 1,
   "metadata": {
    "collapsed": true,
    "pycharm": {
     "name": "#%%\n"
    }
   },
   "outputs": [
    {
     "name": "stdout",
     "output_type": "stream",
     "text": [
      "(2700, 27)\n"
     ]
    }
   ],
   "source": [
    "import pandas as pd\n",
    "import numpy as np\n",
    "\n",
    "dataset_label=pd.read_csv('../创新实践大三上/数据集/RandomLabel1.csv')\n",
    "dataset_features=pd.read_csv('../创新实践大三上/数据集/RandomNodeFeatures.csv')\n",
    "\n",
    "y1=pd.DataFrame(dataset_label)\n",
    "x1=pd.DataFrame(dataset_features)\n",
    "y_array=np.array(y1)\n",
    "x_array=np.array(x1)\n",
    "x=x_array[:,1:]\n",
    "y=y_array[:,1:]\n",
    "y=y.reshape(-1)\n",
    "\n"
   ]
  },
  {
   "cell_type": "markdown",
   "source": [
    " 选择合适k值"
   ],
   "metadata": {
    "collapsed": false,
    "pycharm": {
     "name": "#%% md\n"
    }
   }
  },
  {
   "cell_type": "code",
   "execution_count": 2,
   "outputs": [
    {
     "data": {
      "text/plain": "<Figure size 640x480 with 1 Axes>",
      "image/png": "[encoded data removed]"
     },
     "metadata": {},
     "output_type": "display_data"
    }
   ],
   "source": [
    "from sklearn.model_selection  import cross_val_score\n",
    "import matplotlib.pyplot as plt\n",
    "from sklearn.neighbors import KNeighborsClassifier\n",
    "\n",
    "k_range = range(1, 31)\n",
    "k_error = []\n",
    "for k in k_range:\n",
    "    knn = KNeighborsClassifier(n_neighbors=k)\n",
    "     #cv参数决定数据集划分比例，这里是按照5:1划分训练集和测试集\n",
    "    scores = cross_val_score(knn, x, y.astype(\"int\"), cv=6, scoring='accuracy')\n",
    "    k_error.append(1 - scores.mean())\n",
    "#画图，x轴为k值，y值为误差值\n",
    "plt.plot(k_range, k_error)\n",
    "plt.xlabel('Value of K for KNN')\n",
    "plt.ylabel('Error')\n",
    "plt.show()\n"
   ],
   "metadata": {
    "collapsed": false,
    "pycharm": {
     "name": "#%%\n"
    }
   }
  },
  {
   "cell_type": "markdown",
   "source": [
    "选择完k值后进行模型评测"
   ],
   "metadata": {
    "collapsed": false,
    "pycharm": {
     "name": "#%% md\n"
    }
   }
  },
  {
   "cell_type": "code",
   "execution_count": 15,
   "outputs": [
    {
     "name": "stdout",
     "output_type": "stream",
     "text": [
      "测-----试----- 0\n",
      "auc:  0.5064102564102564\n",
      "f1-score-micro:  0.02531645569620253\n",
      "f1-score-macro 0.02531645569620253\n",
      "recall:  0.01282051282051282\n",
      "precision:  1.0\n",
      "测-----试----- 1\n",
      "auc:  0.5069254509166173\n",
      "f1-score-micro:  0.029411764705882353\n",
      "f1-score-macro 0.029411764705882353\n",
      "recall:  0.015625\n",
      "precision:  0.25\n",
      "测-----试----- 2\n",
      "auc:  0.5417421497584541\n",
      "f1-score-micro:  0.14545454545454548\n",
      "f1-score-macro 0.14545454545454548\n",
      "recall:  0.08695652173913043\n",
      "precision:  0.4444444444444444\n",
      "测-----试----- 3\n",
      "auc:  0.5660468907693502\n",
      "f1-score-micro:  0.21818181818181817\n",
      "f1-score-macro 0.21818181818181817\n",
      "recall:  0.13636363636363635\n",
      "precision:  0.5454545454545454\n",
      "测-----试----- 4\n",
      "auc:  0.5582746819913476\n",
      "f1-score-micro:  0.20512820512820512\n",
      "f1-score-macro 0.20512820512820512\n",
      "recall:  0.11764705882352941\n",
      "precision:  0.8\n",
      "测-----试----- 5\n",
      "auc:  0.5331790123456789\n",
      "f1-score-micro:  0.11764705882352941\n",
      "f1-score-macro 0.11764705882352941\n",
      "recall:  0.07407407407407407\n",
      "precision:  0.2857142857142857\n"
     ]
    }
   ],
   "source": [
    "from sklearn.neighbors import KNeighborsClassifier\n",
    "from sklearn.model_selection import train_test_split\n",
    "from sklearn.metrics import classification_report\n",
    "from sklearn import metrics\n",
    "\n",
    "k_select=2  # 值来源于上图的输出结果\n",
    "test_size=[0.75,0.65,0.55,0.45,0.35,0.25]\n",
    "knn_auc=[]\n",
    "knn_recall=[]\n",
    "knn_precision=[]\n",
    "knn_f1_score=[]\n",
    "\n",
    "for i in range(len(test_size)):\n",
    "    x_train, x_test, y_train, y_test = train_test_split(x,y,test_size=test_size[i])\n",
    "    knn = KNeighborsClassifier(n_neighbors=k_select)\n",
    "    knn.fit(x_train,y_train.astype(\"int\"))\n",
    "    y_pre=knn.predict(x_test)\n",
    "    print(\"测-----试-----\",i)\n",
    "    print(\"auc: \", metrics.roc_auc_score(y_test.astype('int'),y_pre.astype('int')))\n",
    "    print('f1-score-micro: ',metrics.f1_score(y_test.astype(\"int\"),y_pre.astype(\"int\"),))\n",
    "    print('f1-score-macro',metrics.f1_score(y_test.astype(\"int\"),y_pre.astype(\"int\"),))\n",
    "    print(\"recall: \",metrics.recall_score(y_test.astype(\"int\"),y_pre.astype(\"int\")))\n",
    "    print(\"precision: \",metrics.precision_score(y_test.astype(\"int\"),y_pre.astype(\"int\"),))"
   ],
   "metadata": {
    "collapsed": false,
    "pycharm": {
     "name": "#%%\n"
    }
   }
  },
  {
   "cell_type": "markdown",
   "source": [
    " 2. 进行线性回归模型预测"
   ],
   "metadata": {
    "collapsed": false,
    "pycharm": {
     "name": "#%% md\n"
    }
   }
  },
  {
   "cell_type": "code",
   "execution_count": 20,
   "outputs": [
    {
     "name": "stdout",
     "output_type": "stream",
     "text": [
      "测-----试----- 0\n",
      "auc:  0.4999861470901963\n",
      "f1-score-micro:  [0.         0.         0.         0.         0.         0.97879859\n",
      " 0.02631579 0.         0.         0.        ]\n",
      "f1-score-macro [0.         0.         0.         0.         0.         0.97879859\n",
      " 0.02631579 0.         0.         0.        ]\n",
      "recall:  [0.         0.         0.         0.         0.         0.99384931\n",
      " 0.01351351 0.         0.         0.        ]\n",
      "precision:  [0.         0.         0.         0.         0.         0.96419692\n",
      " 0.5        0.         0.         0.        ]\n",
      "测-----试----- 1\n",
      "auc:  0.5079472007282658\n",
      "f1-score-micro:  [0.         0.         0.         0.         0.         0.97991266\n",
      " 0.05797101 0.        ]\n",
      "f1-score-macro [0.         0.         0.         0.         0.         0.97991266\n",
      " 0.05797101 0.        ]\n",
      "recall:  [0.         0.         0.         0.         0.         0.99585799\n",
      " 0.03076923 0.        ]\n",
      "precision:  [0.         0.         0.         0.         0.         0.96446991\n",
      " 0.5        0.        ]\n",
      "测-----试----- 2\n",
      "auc:  0.5176934138625251\n",
      "f1-score-micro:  [0.         0.         0.         0.9761658  0.08955224 0.        ]\n",
      "f1-score-macro [0.         0.         0.         0.9761658  0.08955224 0.        ]\n",
      "recall:  [0.         0.         0.         0.99157895 0.04918033 0.        ]\n",
      "precision:  [0.         0.         0.         0.96122449 0.5        0.        ]\n",
      "测-----试----- 3\n",
      "auc:  0.5\n",
      "f1-score-micro:  [0.98665555 0.        ]\n",
      "f1-score-macro [0.98665555 0.        ]\n",
      "recall:  [1. 0.]\n",
      "precision:  [0.97366255 0.        ]\n",
      "测-----试----- 4\n",
      "auc:  0.5\n",
      "f1-score-micro:  [0.         0.98168103 0.         0.        ]\n",
      "f1-score-macro [0.         0.98168103 0.         0.        ]\n",
      "recall:  [0.         0.99780942 0.         0.        ]\n",
      "precision:  [0.         0.96606575 0.         0.        ]\n",
      "测-----试----- 5\n",
      "auc:  0.5023148148148148\n",
      "f1-score-micro:  [0.         0.         0.97727273 0.        ]\n",
      "f1-score-macro [0.         0.         0.97727273 0.        ]\n",
      "recall:  [0.         0.         0.99537037 0.        ]\n",
      "precision:  [0.         0.         0.95982143 0.        ]\n"
     ]
    },
    {
     "name": "stderr",
     "output_type": "stream",
     "text": [
      "D:\\Anaconda3\\envs\\ExercisePytorch\\lib\\site-packages\\sklearn\\metrics\\_classification.py:1327: UndefinedMetricWarning: Recall is ill-defined and being set to 0.0 in labels with no true samples. Use `zero_division` parameter to control this behavior.\n",
      "  _warn_prf(average, modifier, msg_start, len(result))\n",
      "D:\\Anaconda3\\envs\\ExercisePytorch\\lib\\site-packages\\sklearn\\metrics\\_classification.py:1327: UndefinedMetricWarning: Recall is ill-defined and being set to 0.0 in labels with no true samples. Use `zero_division` parameter to control this behavior.\n",
      "  _warn_prf(average, modifier, msg_start, len(result))\n",
      "D:\\Anaconda3\\envs\\ExercisePytorch\\lib\\site-packages\\sklearn\\metrics\\_classification.py:1327: UndefinedMetricWarning: Recall is ill-defined and being set to 0.0 in labels with no true samples. Use `zero_division` parameter to control this behavior.\n",
      "  _warn_prf(average, modifier, msg_start, len(result))\n",
      "D:\\Anaconda3\\envs\\ExercisePytorch\\lib\\site-packages\\sklearn\\metrics\\_classification.py:1327: UndefinedMetricWarning: Precision is ill-defined and being set to 0.0 in labels with no predicted samples. Use `zero_division` parameter to control this behavior.\n",
      "  _warn_prf(average, modifier, msg_start, len(result))\n",
      "D:\\Anaconda3\\envs\\ExercisePytorch\\lib\\site-packages\\sklearn\\metrics\\_classification.py:1327: UndefinedMetricWarning: Recall is ill-defined and being set to 0.0 in labels with no true samples. Use `zero_division` parameter to control this behavior.\n",
      "  _warn_prf(average, modifier, msg_start, len(result))\n",
      "D:\\Anaconda3\\envs\\ExercisePytorch\\lib\\site-packages\\sklearn\\metrics\\_classification.py:1327: UndefinedMetricWarning: Precision is ill-defined and being set to 0.0 in labels with no predicted samples. Use `zero_division` parameter to control this behavior.\n",
      "  _warn_prf(average, modifier, msg_start, len(result))\n",
      "D:\\Anaconda3\\envs\\ExercisePytorch\\lib\\site-packages\\sklearn\\metrics\\_classification.py:1327: UndefinedMetricWarning: Recall is ill-defined and being set to 0.0 in labels with no true samples. Use `zero_division` parameter to control this behavior.\n",
      "  _warn_prf(average, modifier, msg_start, len(result))\n",
      "D:\\Anaconda3\\envs\\ExercisePytorch\\lib\\site-packages\\sklearn\\metrics\\_classification.py:1327: UndefinedMetricWarning: Precision is ill-defined and being set to 0.0 in labels with no predicted samples. Use `zero_division` parameter to control this behavior.\n",
      "  _warn_prf(average, modifier, msg_start, len(result))\n"
     ]
    }
   ],
   "source": [
    "from sklearn.linear_model import LinearRegression  #导入线性回归模型\n",
    "\n",
    "test_size=[0.75,0.65,0.55,0.45,0.35,0.25]\n",
    "\n",
    "for i in range(len(test_size)):\n",
    "    x_train, x_test, y_train, y_test = train_test_split(x,y,test_size=test_size[i])\n",
    "    model = LinearRegression()  #创建线性回归对象\n",
    "    model.fit(x_train,y_train.astype('int'))\n",
    "    y_pre=model.predict(x_test)\n",
    "    print(\"测-----试-----\",i)\n",
    "    print(\"auc: \", metrics.roc_auc_score(y_test.astype('int'),y_pre.astype('int'),average=None))\n",
    "    print('f1-score-micro: ',metrics.f1_score(y_test.astype(\"int\"),y_pre.astype(\"int\"),average=None))\n",
    "    print('f1-score-macro',metrics.f1_score(y_test.astype(\"int\"),y_pre.astype(\"int\"),average=None))\n",
    "    print(\"recall: \",metrics.recall_score(y_test.astype(\"int\"),y_pre.astype(\"int\"),average=None))\n",
    "    print(\"precision: \",metrics.precision_score(y_test.astype(\"int\"),y_pre.astype(\"int\"),average=None))"
   ],
   "metadata": {
    "collapsed": false,
    "pycharm": {
     "name": "#%%\n"
    }
   }
  },
  {
   "cell_type": "markdown",
   "source": [
    " 3. 决策树模型"
   ],
   "metadata": {
    "collapsed": false,
    "pycharm": {
     "name": "#%% md\n"
    }
   }
  },
  {
   "cell_type": "code",
   "execution_count": 21,
   "outputs": [
    {
     "name": "stdout",
     "output_type": "stream",
     "text": [
      "测-----试----- 0\n",
      "auc:  0.7766824515071487\n",
      "f1-score-micro:  [0.98928571 0.67692308]\n",
      "f1-score-macro [0.98928571 0.67692308]\n",
      "recall:  [0.99640288 0.55696203]\n",
      "precision:  [0.9822695 0.8627451]\n",
      "测-----试----- 1\n",
      "auc:  0.91625702247191\n",
      "f1-score-micro:  [0.99140231 0.78832117]\n",
      "f1-score-macro [0.99140231 0.78832117]\n",
      "recall:  [0.98876404 0.84375   ]\n",
      "precision:  [0.9940547  0.73972603]\n",
      "测-----试----- 2\n",
      "auc:  0.8913373597929249\n",
      "f1-score-micro:  [0.99334967 0.83478261]\n",
      "f1-score-macro [0.99334967 0.83478261]\n",
      "recall:  [0.99578947 0.78688525]\n",
      "precision:  [0.99092179 0.88888889]\n",
      "测-----试----- 3\n",
      "auc:  0.9648250083683565\n",
      "f1-score-micro:  [0.99614561 0.90526316]\n",
      "f1-score-macro [0.99614561 0.90526316]\n",
      "recall:  [0.99486741 0.93478261]\n",
      "precision:  [0.9974271  0.87755102]\n",
      "测-----试----- 4\n",
      "auc:  0.9994523548740416\n",
      "f1-score-micro:  [0.99945205 0.98461538]\n",
      "f1-score-macro [0.99945205 0.98461538]\n",
      "recall:  [0.99890471 1.        ]\n",
      "precision:  [1.         0.96969697]\n",
      "测-----试----- 5\n",
      "auc:  0.8695987654320987\n",
      "f1-score-micro:  [0.99385561 0.83333333]\n",
      "f1-score-macro [0.99385561 0.83333333]\n",
      "recall:  [0.99845679 0.74074074]\n",
      "precision:  [0.98929664 0.95238095]\n"
     ]
    }
   ],
   "source": [
    " from sklearn .tree import DecisionTreeClassifier\n",
    "from sklearn import tree\n",
    "\n",
    "from sklearn.model_selection import train_test_split\n",
    "\n",
    "test_size=[0.75,0.65,0.55,0.45,0.35,0.25]\n",
    "knn_auc=[]\n",
    "knn_recall=[]\n",
    "knn_precision=[]\n",
    "knn_f1_score=[]\n",
    "\n",
    "for i in range(len(test_size)):\n",
    "    x_train, x_test, y_train, y_test = train_test_split(x,y,test_size=test_size[i])\n",
    "    model = DecisionTreeClassifier(criterion=\"entropy\")\n",
    "    model = model.fit(x_train,y_train.astype('int'))\n",
    "    y_pre=model.predict(x_test)\n",
    "    print(\"测-----试-----\",i)\n",
    "    print(\"auc: \", metrics.roc_auc_score(y_test.astype('int'),y_pre.astype('int'),average=None))\n",
    "    print('f1-score-micro: ',metrics.f1_score(y_test.astype(\"int\"),y_pre.astype(\"int\"),average=None))\n",
    "    print('f1-score-macro',metrics.f1_score(y_test.astype(\"int\"),y_pre.astype(\"int\"),average=None))\n",
    "    print(\"recall: \",metrics.recall_score(y_test.astype(\"int\"),y_pre.astype(\"int\"),average=None))\n",
    "    print(\"precision: \",metrics.precision_score(y_test.astype(\"int\"),y_pre.astype(\"int\"),average=None))\n"
   ],
   "metadata": {
    "collapsed": false,
    "pycharm": {
     "name": "#%%\n"
    }
   }
  }
 ],
 "metadata": {
  "kernelspec": {
   "display_name": "Python 3",
   "language": "python",
   "name": "python3"
  },
  "language_info": {
   "codemirror_mode": {
    "name": "ipython",
    "version": 2
   },
   "file_extension": ".py",
   "mimetype": "text/x-python",
   "name": "python",
   "nbconvert_exporter": "python",
   "pygments_lexer": "ipython2",
   "version": "2.7.6"
  }
 },
 "nbformat": 4,
 "nbformat_minor": 0
}