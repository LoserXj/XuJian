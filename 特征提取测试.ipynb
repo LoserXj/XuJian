{
 "cells": [
  {
   "cell_type": "markdown",
   "source": [
    "# 说明，以下代码环境均是针对于kaggle平台"
   ],
   "metadata": {
    "collapsed": false,
    "pycharm": {
     "name": "#%% md\n"
    }
   }
  },
  {
   "cell_type": "markdown",
   "source": [
    "1. 首先读取相关的文件并确保版本是否符合要求"
   ],
   "metadata": {
    "collapsed": false,
    "pycharm": {
     "name": "#%% md\n"
    }
   }
  },
  {
   "cell_type": "code",
   "execution_count": null,
   "metadata": {
    "collapsed": true,
    "pycharm": {
     "name": "#%%\n"
    }
   },
   "outputs": [],
   "source": [
    "import platform\n",
    "import pickle\n",
    "import networkx as nx"
   ]
  },
  {
   "cell_type": "code",
   "execution_count": null,
   "outputs": [],
   "source": [
    "print(\"python version:\\t\\t\", platform.python_version())\n",
    "print(\"networkx version:\\t\", nx.__version__)"
   ],
   "metadata": {
    "collapsed": false,
    "pycharm": {
     "name": "#%%\n"
    }
   }
  },
  {
   "cell_type": "code",
   "execution_count": null,
   "outputs": [],
   "source": [
    "def load_pickle(fname):\n",
    "    with open(fname, 'rb') as f:\n",
    "        return pickle.load(f)\n",
    "\n",
    "G = load_pickle('../input/ethereum-phishing-transaction-network/Ethereum Phishing Transaction Network/MulDiGraph.pkl')\n",
    "print(nx.info(G))"
   ],
   "metadata": {
    "collapsed": false,
    "pycharm": {
     "name": "#%%\n"
    }
   }
  },
  {
   "cell_type": "markdown",
   "source": [
    "2. 设计代码完成对node data的提取，并进行数据的初步筛选，根据transactions进行筛选，若transactions大于1000或者小于10均除去相关的数据"
   ],
   "metadata": {
    "collapsed": false,
    "pycharm": {
     "name": "#%% md\n"
    }
   }
  },
  {
   "cell_type": "code",
   "execution_count": null,
   "outputs": [],
   "source": [
    "legal_node_set=set()\n",
    "for ind,nd in enumerate(nx.nodes(G)):\n",
    "    count=0\n",
    "    suc=list(G.successors(nd))\n",
    "    pre=list(G.predecessors(nd))\n",
    "    for i in range(len(suc)):\n",
    "        count+=(G.number_of_edges(nd,suc[i]))\n",
    "    for j in range(len(pre)):\n",
    "        count+=(G.number_of_edges(pre[j],nd))\n",
    "    if count<10 or count>1000:\n",
    "        continue\n",
    "    legal_node_set.add((nd,count))\n",
    "print(len(legal_node_set))"
   ],
   "metadata": {
    "collapsed": false,
    "pycharm": {
     "name": "#%%\n"
    }
   }
  },
  {
   "cell_type": "markdown",
   "source": [
    "3. 生成label的csv文件并统计信息"
   ],
   "metadata": {
    "collapsed": false,
    "pycharm": {
     "name": "#%% md\n"
    }
   }
  },
  {
   "cell_type": "code",
   "execution_count": null,
   "outputs": [],
   "source": [
    "import csv\n",
    "legal_node_list=list(legal_node_set)\n",
    "with open('label.csv','w',newline='') as file:\n",
    "    writer=csv.writer(file)\n",
    "    writer.writerow(['account','isp'])\n",
    "    for i in range(len(legal_node_list)):\n",
    "        data=[]\n",
    "        data.append(legal_node_list[i][0])\n",
    "        data.append(G.nodes[legal_node_list[i][0]]['isp'])\n",
    "        writer.writerow(data)"
   ],
   "metadata": {
    "collapsed": false,
    "pycharm": {
     "name": "#%%\n"
    }
   }
  },
  {
   "cell_type": "code",
   "execution_count": null,
   "outputs": [],
   "source": [
    "phishingCount=0\n",
    "for i in range(len(legal_node_list)):\n",
    "    if G.nodes[legal_node_list[i][0]]['isp']==1:\n",
    "        phishingCount+=1\n",
    "print(phishingCount)\n",
    "print(phishingCount/len(legal_node_list))\n",
    "print(len(legal_node_list)-phishingCount)"
   ],
   "metadata": {
    "collapsed": false,
    "pycharm": {
     "name": "#%%\n"
    }
   }
  },
  {
   "cell_type": "markdown",
   "source": [
    "4. 生成对应的node_data特征文件"
   ],
   "metadata": {
    "collapsed": false,
    "pycharm": {
     "name": "#%% md\n"
    }
   }
  },
  {
   "cell_type": "code",
   "execution_count": null,
   "outputs": [],
   "source": [
    "import statistics\n",
    "node_data=[]\n",
    "for i in range(len(legal_node_list)):\n",
    "    node=legal_node_list[i][0]\n",
    "    node_data_temp=[]\n",
    "    time=[]\n",
    "    time_min=99999999\n",
    "    time_max=0\n",
    "    amount=[]\n",
    "    in_time=[]\n",
    "    in_time_min=99999999\n",
    "    in_time_max=0\n",
    "    in_amount=[]\n",
    "    node_set=set()\n",
    "    pre=list(G.predecessors(node))\n",
    "    for j in range(len(pre)):\n",
    "        for v in G[pre[j]][node].values():\n",
    "            in_time.append(v['amount'])\n",
    "            in_amount.append(v['timestamp'])\n",
    "            if v['timestamp']>in_time_max:\n",
    "                in_time_max=v['timestamp']\n",
    "            if v['timestamp']<in_time_min:\n",
    "                in_time_min=v['timestamp']\n",
    "\n",
    "    for i,v in dict(G[node]).items():\n",
    "        node_set.add(i)\n",
    "        for v1 in v.values():\n",
    "            time.append(v1['timestamp'])\n",
    "            amount.append(v1['amount'])\n",
    "            if v1['timestamp']>time_max:\n",
    "                time_max=v1['timestamp']\n",
    "            if v1['timestamp']<time_min:\n",
    "                time_min=v1['timestamp']\n",
    "    if len(time)>0:\n",
    "        out_block_std=statistics.pstdev(time)\n",
    "        out_time_ptp=time_max-time_min\n",
    "        amount_sum=sum(amount)\n",
    "        amount_max=max(amount)\n",
    "        amount_min=min(amount)\n",
    "        amount_mean=statistics.mean(amount)\n",
    "        amount_std=statistics.pstdev(amount)\n",
    "        count=len(time)\n",
    "        unique=len(node_set)\n",
    "        unique_ratio=unique/count\n",
    "    if len(time)<=0 :\n",
    "        out_block_std=0\n",
    "        out_time_ptp=0\n",
    "        amount_sum=0\n",
    "        amount_max=0\n",
    "        amount_min=0\n",
    "        amount_mean=0\n",
    "        amount_std=0\n",
    "        count=0\n",
    "        unique=0\n",
    "        unique_ratio=0\n",
    "    if len(in_time)>0:\n",
    "        in_block_std=statistics.pstdev(in_time)\n",
    "        in_time_ptp=in_time_max-in_time_min\n",
    "        in_amount_sum=sum(in_amount)\n",
    "        in_amount_max=max(in_amount)\n",
    "        in_amount_min=min(in_amount)\n",
    "        in_amount_mean=statistics.mean(in_amount)\n",
    "        in_amount_std=statistics.pstdev(in_amount)\n",
    "        in_count=len(in_time)\n",
    "        in_unique=len(node_set)\n",
    "        in_unique_ratio=in_unique/in_count\n",
    "    if len(in_time)<=0:\n",
    "        in_block_std=0\n",
    "        in_time_ptp=0\n",
    "        in_amount_sum=0\n",
    "        in_amount_max=0\n",
    "        in_amount_min=0\n",
    "        in_amount_mean=0\n",
    "        in_amount_std=0\n",
    "        in_count=0\n",
    "        in_unique=0\n",
    "        in_unique_ratio=0\n",
    "    node_data_temp.append(node)\n",
    "    node_data_temp.append(out_block_std)\n",
    "    node_data_temp.append(out_time_ptp)\n",
    "    node_data_temp.append(amount_sum)\n",
    "    node_data_temp.append(amount_max)\n",
    "    node_data_temp.append(amount_min)\n",
    "    node_data_temp.append(amount_mean)\n",
    "    node_data_temp.append(amount_std)\n",
    "    node_data_temp.append(count)\n",
    "    node_data_temp.append(unique)\n",
    "    node_data_temp.append(unique_ratio)\n",
    "    node_data_temp.append(in_block_std)\n",
    "    node_data_temp.append(in_time_ptp)\n",
    "    node_data_temp.append(in_amount_sum)\n",
    "    node_data_temp.append(in_amount_max)\n",
    "    node_data_temp.append(in_amount_min)\n",
    "    node_data_temp.append(in_amount_mean)\n",
    "    node_data_temp.append(in_amount_std)\n",
    "    node_data_temp.append(in_count)\n",
    "    node_data_temp.append(in_unique)\n",
    "    node_data_temp.append(in_unique_ratio)\n",
    "\n",
    "\n",
    "\n",
    "\n",
    "\n",
    "    node_data.append(node_data_temp)\n",
    "\n",
    "\n"
   ],
   "metadata": {
    "collapsed": false,
    "pycharm": {
     "name": "#%%\n"
    }
   }
  },
  {
   "cell_type": "code",
   "execution_count": null,
   "outputs": [],
   "source": [
    "import csv\n",
    "with open('node_data_features.csv','w',newline='') as file:\n",
    "    writer=csv.writer(file)\n",
    "    writer.writerow(['account','out_block_std','out_time_ptp','out_amount_sum','out_amount_max','out_amount_min'\n",
    "                    ,'out_amount_mean','out_amount_std','out_count','out_unique',\n",
    "                    'out_unique_ratio',\n",
    "                    'in_block_std','in_time_ptp','in_amount_sum','in_amount_max','in_amount_min'\n",
    "                    ,'in_amount_mean','in_amount_std','in_count','in_unique',\n",
    "                    'in_unique_ratio'\n",
    "\n",
    "                    ])\n",
    "    for i in range(len(node_data)):\n",
    "        writer.writerow(node_data[i])"
   ],
   "metadata": {
    "collapsed": false,
    "pycharm": {
     "name": "#%%\n"
    }
   }
  },
  {
   "cell_type": "markdown",
   "source": [
    "5. 验证生成是否有误"
   ],
   "metadata": {
    "collapsed": false,
    "pycharm": {
     "name": "#%% md\n"
    }
   }
  },
  {
   "cell_type": "code",
   "execution_count": null,
   "outputs": [],
   "source": [
    "for i in range(len(legal_node_list)):\n",
    "    if legal_node_list[i][0]!=node_data[i][0] or (legal_node_list[i][1]!=\n",
    "                                                 node_data[i][8]+node_data[i][18]):\n",
    "        print(\"出现错误\")\n",
    "print(\"没问题\")"
   ],
   "metadata": {
    "collapsed": false,
    "pycharm": {
     "name": "#%%\n"
    }
   }
  },
  {
   "cell_type": "markdown",
   "source": [
    "# 2 针对本地电脑提取特征\n"
   ],
   "metadata": {
    "collapsed": false,
    "pycharm": {
     "name": "#%% md\n"
    }
   }
  },
  {
   "cell_type": "code",
   "execution_count": 1,
   "outputs": [],
   "source": [
    "import platform\n",
    "import pickle\n",
    "import networkx as nx"
   ],
   "metadata": {
    "collapsed": false,
    "pycharm": {
     "name": "#%%\n"
    }
   }
  },
  {
   "cell_type": "code",
   "execution_count": null,
   "outputs": [],
   "source": [
    "print(\"python version:\\t\\t\", platform.python_version())\n",
    "print(\"networkx version:\\t\", nx.__version__)"
   ],
   "metadata": {
    "collapsed": false,
    "pycharm": {
     "name": "#%%\n",
     "is_executing": true
    }
   }
  },
  {
   "cell_type": "code",
   "execution_count": 5,
   "outputs": [
    {
     "ename": "MemoryError",
     "evalue": "",
     "output_type": "error",
     "traceback": [
      "\u001B[1;31m---------------------------------------------------------------------------\u001B[0m",
      "\u001B[1;31mMemoryError\u001B[0m                               Traceback (most recent call last)",
      "Input \u001B[1;32mIn [5]\u001B[0m, in \u001B[0;36m<cell line: 5>\u001B[1;34m()\u001B[0m\n\u001B[0;32m      2\u001B[0m     \u001B[38;5;28;01mwith\u001B[39;00m \u001B[38;5;28mopen\u001B[39m(fname, \u001B[38;5;124m'\u001B[39m\u001B[38;5;124mrb\u001B[39m\u001B[38;5;124m'\u001B[39m) \u001B[38;5;28;01mas\u001B[39;00m f:\n\u001B[0;32m      3\u001B[0m         \u001B[38;5;28;01mreturn\u001B[39;00m pickle\u001B[38;5;241m.\u001B[39mload(f)\n\u001B[1;32m----> 5\u001B[0m G \u001B[38;5;241m=\u001B[39m \u001B[43mload_pickle\u001B[49m\u001B[43m(\u001B[49m\u001B[38;5;124;43m'\u001B[39;49m\u001B[38;5;124;43m./MulDiGraph.pkl\u001B[39;49m\u001B[38;5;124;43m'\u001B[39;49m\u001B[43m)\u001B[49m\n\u001B[0;32m      6\u001B[0m \u001B[38;5;28mprint\u001B[39m(nx\u001B[38;5;241m.\u001B[39minfo(G))\n",
      "Input \u001B[1;32mIn [5]\u001B[0m, in \u001B[0;36mload_pickle\u001B[1;34m(fname)\u001B[0m\n\u001B[0;32m      1\u001B[0m \u001B[38;5;28;01mdef\u001B[39;00m \u001B[38;5;21mload_pickle\u001B[39m(fname):\n\u001B[0;32m      2\u001B[0m     \u001B[38;5;28;01mwith\u001B[39;00m \u001B[38;5;28mopen\u001B[39m(fname, \u001B[38;5;124m'\u001B[39m\u001B[38;5;124mrb\u001B[39m\u001B[38;5;124m'\u001B[39m) \u001B[38;5;28;01mas\u001B[39;00m f:\n\u001B[1;32m----> 3\u001B[0m         \u001B[38;5;28;01mreturn\u001B[39;00m \u001B[43mpickle\u001B[49m\u001B[38;5;241;43m.\u001B[39;49m\u001B[43mload\u001B[49m\u001B[43m(\u001B[49m\u001B[43mf\u001B[49m\u001B[43m)\u001B[49m\n",
      "\u001B[1;31mMemoryError\u001B[0m: "
     ]
    }
   ],
   "source": [
    "def load_pickle(fname):\n",
    "    with open(fname, 'rb') as f:\n",
    "        return pickle.load(f)\n",
    "\n",
    "G = load_pickle('./MulDiGraph.pkl')\n",
    "print(nx.info(G))"
   ],
   "metadata": {
    "collapsed": false,
    "pycharm": {
     "name": "#%%\n"
    }
   }
  },
  {
   "cell_type": "code",
   "execution_count": 3,
   "outputs": [
    {
     "name": "stdout",
     "output_type": "stream",
     "text": [
      "[1921733, 2917988, 2275260, 1829473, 2554247, 1503928, 1300414, 1314603, 2495979, 1681630]\n"
     ]
    }
   ],
   "source": [
    "import random\n",
    "random.seed(2973489)\n",
    "random_list=[]\n",
    "for i in range(10):\n",
    "    random_list.append(random.randint(1,2973489))\n",
    "print(random_list)"
   ],
   "metadata": {
    "collapsed": false,
    "pycharm": {
     "name": "#%%\n"
    }
   }
  },
  {
   "cell_type": "markdown",
   "source": [],
   "metadata": {
    "collapsed": false,
    "pycharm": {
     "name": "#%% md\n"
    }
   }
  },
  {
   "cell_type": "markdown",
   "source": [
    "# 3 采用随机游走算法提取特征"
   ],
   "metadata": {
    "collapsed": false,
    "pycharm": {
     "name": "#%% md\n"
    }
   }
  },
  {
   "cell_type": "code",
   "execution_count": null,
   "outputs": [],
   "source": [
    "import platform\n",
    "import pickle\n",
    "import networkx as nx"
   ],
   "metadata": {
    "collapsed": false,
    "pycharm": {
     "name": "#%%\n"
    }
   }
  },
  {
   "cell_type": "code",
   "execution_count": null,
   "outputs": [],
   "source": [
    "def load_pickle(fname):\n",
    "    with open(fname, 'rb') as f:\n",
    "        return pickle.load(f)"
   ],
   "metadata": {
    "collapsed": false,
    "pycharm": {
     "name": "#%%\n"
    }
   }
  },
  {
   "cell_type": "code",
   "execution_count": null,
   "outputs": [],
   "source": [
    "import random\n",
    "random.seed(2973489)\n",
    "random_list=[]\n",
    "for i in range(10):\n",
    "    random_list.append(random.randint(1,2973489))\n",
    "print(random_list)"
   ],
   "metadata": {
    "collapsed": false,
    "pycharm": {
     "name": "#%%\n"
    }
   }
  },
  {
   "cell_type": "code",
   "execution_count": null,
   "outputs": [],
   "source": [
    "import random\n",
    "\n",
    "def RandomSelectNode(G):\n",
    "\n",
    "    legal_node_set=set()\n",
    "    for ind,nd in enumerate(nx.nodes(G)):\n",
    "\n",
    "        if ind>=random_list[0]:\n",
    "            \n",
    "            legal_node_set.add(nd)\n",
    "            suc=list(G.successors(nd))\n",
    "            pre=list(G.predecessors(nd))\n",
    "\n",
    "            for i in range(len(suc)):\n",
    "                if len(legal_node_set)>=2600:\n",
    "                    break\n",
    "                legal_node_set.add(suc[i])\n",
    "\n",
    "            for i in range(len(pre)):\n",
    "                if len(legal_node_set)>=2600:\n",
    "                    break\n",
    "                legal_node_set.add(pre[i])\n",
    "\n",
    "\n",
    "            while len(legal_node_set)<2600:\n",
    "                isWho=random.randint(0,1)\n",
    "                isOut=False\n",
    "                node_select=None\n",
    "                if len(suc)==0:\n",
    "                    isWho=1\n",
    "                if len(pre)==0:\n",
    "                    isWho=0\n",
    "                if isWho==0:\n",
    "                    choose=random.randint(0,len(suc)-1)\n",
    "                    node_select=suc[choose]\n",
    "                if isWho==1:\n",
    "                    choose=random.randint(0,len(pre)-1)\n",
    "                    node_select=pre[choose]\n",
    "                legal_node_set.add(node_select)\n",
    "                suc=list(G.successors(node_select))\n",
    "                pre=list(G.predecessors(node_select))\n",
    "                for i in range(len(suc)):\n",
    "                    if len(legal_node_set)>=2600:\n",
    "                        isOut=True\n",
    "                        break\n",
    "                    legal_node_set.add(suc[i])\n",
    "\n",
    "                if isOut:\n",
    "                    break\n",
    "                for i in range(len(pre)):\n",
    "                    if len(legal_node_set)>=2600:\n",
    "                        isOut=True\n",
    "                        break\n",
    "                    legal_node_set.add(pre[i])\n",
    "\n",
    "                if isOut:\n",
    "                    break\n",
    "            if len(legal_node_set)>=2600:\n",
    "                break\n",
    "    return legal_node_set"
   ],
   "metadata": {
    "collapsed": false,
    "pycharm": {
     "name": "#%%\n"
    }
   }
  },
  {
   "cell_type": "code",
   "execution_count": null,
   "outputs": [],
   "source": [
    "G = load_pickle('../input/ethereum-phishing-transaction-network/Ethereum Phishing Transaction Network/MulDiGraph.pkl')\n",
    "legal_node_set=RandomSelectNode(G)"
   ],
   "metadata": {
    "collapsed": false,
    "pycharm": {
     "name": "#%%\n"
    }
   }
  },
  {
   "cell_type": "code",
   "execution_count": null,
   "outputs": [],
   "source": [
    "legal_node_list=list(legal_node_set)"
   ],
   "metadata": {
    "collapsed": false,
    "pycharm": {
     "name": "#%%\n"
    }
   }
  },
  {
   "cell_type": "code",
   "execution_count": null,
   "outputs": [],
   "source": [
    "phishingCount=0\n",
    "for i in range(len(legal_node_list)):\n",
    "    if G.nodes[legal_node_list[i]]['isp']==1:\n",
    "        phishingCount+=1\n",
    "print(phishingCount)\n",
    "print(phishingCount/len(legal_node_list))\n",
    "print(len(legal_node_list)-phishingCount)"
   ],
   "metadata": {
    "collapsed": false,
    "pycharm": {
     "name": "#%%\n"
    }
   }
  },
  {
   "cell_type": "code",
   "execution_count": null,
   "outputs": [],
   "source": [
    "import csv\n",
    "\n",
    "def RandomLabel(legal_node_set):\n",
    "\n",
    "    legal_node_list=list(legal_node_set)\n",
    "    with open('RandomLabel1.csv','w',newline='') as file:\n",
    "        writer=csv.writer(file)\n",
    "        writer.writerow(['account','isp'])\n",
    "        for i in range(len(legal_node_list)):\n",
    "            data=[]\n",
    "            data.append(legal_node_list[i])\n",
    "            data.append(G.nodes[legal_node_list[i]]['isp'])\n",
    "            writer.writerow(data)"
   ],
   "metadata": {
    "collapsed": false,
    "pycharm": {
     "name": "#%%\n"
    }
   }
  },
  {
   "cell_type": "code",
   "execution_count": null,
   "outputs": [],
   "source": [
    "RandomLabel(legal_node_set)"
   ],
   "metadata": {
    "collapsed": false,
    "pycharm": {
     "name": "#%%\n"
    }
   }
  },
  {
   "cell_type": "markdown",
   "source": [
    " # 统计节点信息"
   ],
   "metadata": {
    "collapsed": false,
    "pycharm": {
     "name": "#%% md\n"
    }
   }
  },
  {
   "cell_type": "code",
   "execution_count": null,
   "outputs": [],
   "source": [
    "import statistics\n",
    "\n",
    "def getNodeData(legal_node_list):\n",
    "    node_data=[]\n",
    "    for i in range(len(legal_node_list)):\n",
    "        node=legal_node_list[i]\n",
    "        node_data_temp=[]\n",
    "        time=[]\n",
    "        time_min=99999999\n",
    "        time_max=0\n",
    "        amount=[]\n",
    "        in_time=[]\n",
    "        in_time_min=99999999\n",
    "        in_time_max=0\n",
    "        in_amount=[]\n",
    "        node_set=set()\n",
    "        pre=list(G.predecessors(node))\n",
    "        for j in range(len(pre)):\n",
    "            for v in G[pre[j]][node].values():\n",
    "                in_time.append(v['amount'])\n",
    "                in_amount.append(v['timestamp'])\n",
    "                if v['timestamp']>in_time_max:\n",
    "                    in_time_max=v['timestamp']\n",
    "                if v['timestamp']<in_time_min:\n",
    "                    in_time_min=v['timestamp']\n",
    "\n",
    "\n",
    "        for i,v in dict(G[node]).items():\n",
    "            node_set.add(i)\n",
    "            for v1 in v.values():\n",
    "                time.append(v1['timestamp'])\n",
    "                amount.append(v1['amount'])\n",
    "                if v1['timestamp']>time_max:\n",
    "                    time_max=v1['timestamp']\n",
    "                if v1['timestamp']<time_min:\n",
    "                    time_min=v1['timestamp']\n",
    "\n",
    "        if len(time)>0:\n",
    "            out_block_std=statistics.pstdev(time)\n",
    "            out_time_ptp=time_max-time_min\n",
    "            amount_sum=sum(amount)\n",
    "            amount_max=max(amount)\n",
    "            amount_min=min(amount)\n",
    "            amount_mean=statistics.mean(amount)\n",
    "            amount_std=statistics.pstdev(amount)\n",
    "            count=len(time)\n",
    "            unique=len(node_set)\n",
    "            unique_ratio=unique/count\n",
    "\n",
    "        if len(time)<=0 :\n",
    "            out_block_std=0\n",
    "            out_time_ptp=0\n",
    "            amount_sum=0\n",
    "            amount_max=0\n",
    "            amount_min=0\n",
    "            amount_mean=0\n",
    "            amount_std=0\n",
    "            count=0\n",
    "            unique=0\n",
    "            unique_ratio=0\n",
    "\n",
    "        if len(in_time)>0:\n",
    "            in_block_std=statistics.pstdev(in_time)\n",
    "            in_time_ptp=in_time_max-in_time_min\n",
    "            in_amount_sum=sum(in_amount)\n",
    "            in_amount_max=max(in_amount)\n",
    "            in_amount_min=min(in_amount)\n",
    "            in_amount_mean=statistics.mean(in_amount)\n",
    "            in_amount_std=statistics.pstdev(in_amount)\n",
    "            in_count=len(in_time)\n",
    "            in_unique=len(node_set)\n",
    "            in_unique_ratio=in_unique/in_count\n",
    "\n",
    "        if len(in_time)<=0:\n",
    "            in_block_std=0\n",
    "            in_time_ptp=0\n",
    "            in_amount_sum=0\n",
    "            in_amount_max=0\n",
    "            in_amount_min=0\n",
    "            in_amount_mean=0\n",
    "            in_amount_std=0\n",
    "            in_count=0\n",
    "            in_unique=0\n",
    "            in_unique_ratio=0\n",
    "\n",
    "        node_data_temp.append(node)\n",
    "        node_data_temp.append(out_block_std)\n",
    "        node_data_temp.append(out_time_ptp)\n",
    "        node_data_temp.append(amount_sum)\n",
    "        node_data_temp.append(amount_max)\n",
    "        node_data_temp.append(amount_min)\n",
    "        node_data_temp.append(amount_mean)\n",
    "        node_data_temp.append(amount_std)\n",
    "        node_data_temp.append(count)\n",
    "        node_data_temp.append(unique)\n",
    "        node_data_temp.append(unique_ratio)\n",
    "\n",
    "        node_data_temp.append(in_block_std)\n",
    "        node_data_temp.append(in_time_ptp)\n",
    "        node_data_temp.append(in_amount_sum)\n",
    "        node_data_temp.append(in_amount_max)\n",
    "        node_data_temp.append(in_amount_min)\n",
    "        node_data_temp.append(in_amount_mean)\n",
    "        node_data_temp.append(in_amount_std)\n",
    "        node_data_temp.append(in_count)\n",
    "        node_data_temp.append(in_unique)\n",
    "        node_data_temp.append(in_unique_ratio)\n",
    "\n",
    "\n",
    "\n",
    "\n",
    "\n",
    "        node_data.append(node_data_temp)\n",
    "    return node_data\n"
   ],
   "metadata": {
    "collapsed": false,
    "pycharm": {
     "name": "#%%\n"
    }
   }
  },
  {
   "cell_type": "code",
   "execution_count": null,
   "outputs": [],
   "source": [
    "node_data=getNodeData(legal_node_list)\n",
    "print(node_data[0])"
   ],
   "metadata": {
    "collapsed": false,
    "pycharm": {
     "name": "#%%\n"
    }
   }
  },
  {
   "cell_type": "markdown",
   "source": [
    "# 统计一阶朋友节点重要特征"
   ],
   "metadata": {
    "collapsed": false,
    "pycharm": {
     "name": "#%% md\n"
    }
   }
  },
  {
   "cell_type": "code",
   "execution_count": null,
   "outputs": [],
   "source": [
    "import statistics\n",
    "\n",
    "def getAllToFriendsOutDirectionFeatures(legal_node_list):\n",
    "    To_Out_Fea=[]\n",
    "    for i in range(len(legal_node_list)):\n",
    "        To_Out_Fea_Temp=[]\n",
    "        To_Out_Fea_Temp.append(legal_node_list[i])\n",
    "        suc=list(G.successors(legal_node_list[i]))\n",
    "        to_out_sum_media=0\n",
    "        to_out_min_std=0\n",
    "        to_out_sum_min=0\n",
    "        media=[]\n",
    "        std=[]\n",
    "        min_list=[]\n",
    "        for j in range(len(suc)):\n",
    "            cal_amount=[]\n",
    "\n",
    "            temp_min=999999999\n",
    "            for i,v in dict(G[suc[j]]).items():\n",
    "                for v1 in v.values():\n",
    "                    cal_amount.append(v1['amount'])\n",
    "                    if temp_min>v1['amount']:\n",
    "                        temp_min=v1['amount']\n",
    "            if len(cal_amount)>0:\n",
    "                media.append(statistics.mean(cal_amount))\n",
    "                std.append(statistics.pstdev(cal_amount))\n",
    "                min_list.append(temp_min)\n",
    "        if len(media)>0:\n",
    "            to_out_sum_media=sum(media)\n",
    "        if len(media)<=0:\n",
    "            to_out_sum_media=0\n",
    "        if len(std)>0:\n",
    "            to_out_min_std=min(std)\n",
    "        if len(std)<=0:\n",
    "            to_out_min_std=0\n",
    "        if len(min_list)>0:\n",
    "            to_out_sum_min=sum(min_list)\n",
    "        if len(min_list)<=0:\n",
    "            to_out_sum_min=0\n",
    "        To_Out_Fea_Temp.append(to_out_sum_media)\n",
    "        To_Out_Fea_Temp.append(to_out_min_std)\n",
    "        To_Out_Fea_Temp.append(to_out_sum_min)\n",
    "\n",
    "        To_Out_Fea.append(To_Out_Fea_Temp)\n",
    "    return  To_Out_Fea\n",
    "\n"
   ],
   "metadata": {
    "collapsed": false,
    "pycharm": {
     "name": "#%%\n"
    }
   }
  },
  {
   "cell_type": "code",
   "execution_count": null,
   "outputs": [],
   "source": [
    "To_Out_Fea=getAllToFriendsOutDirectionFeatures(legal_node_list)\n",
    "print(To_Out_Fea[0])"
   ],
   "metadata": {
    "collapsed": false,
    "pycharm": {
     "name": "#%%\n"
    }
   }
  },
  {
   "cell_type": "code",
   "execution_count": null,
   "outputs": [],
   "source": [
    "import statistics\n",
    "def getAllFromFriendsInDirectionFeatures(legal_node_list):\n",
    "    From_In_Fea=[]\n",
    "    for i in range(len(legal_node_list)):\n",
    "        From_In_Fea_Temp=[]\n",
    "        From_In_Fea_Temp.append(legal_node_list[i])\n",
    "        pre=list(G.predecessors(legal_node_list[i]))\n",
    "        from_in_sum_min=0\n",
    "        from_in_min_std=0\n",
    "        from_in_min_sum=0\n",
    "        from_in_mean_sum=0\n",
    "        sum_list=[]\n",
    "        std=[]\n",
    "        min_list=[]\n",
    "        for j in range(len(pre)):\n",
    "            cal_amount=[]\n",
    "            temp_min=9999999\n",
    "            preFriend=list(G.predecessors(pre[j]))\n",
    "            for k in range(len(preFriend)):\n",
    "                for v in G[preFriend[k]][pre[j]].values():\n",
    "                    cal_amount.append(v['amount'])\n",
    "                    if temp_min>v['amount']:\n",
    "                        temp_min=v['amount']\n",
    "            if len(cal_amount)>0:\n",
    "                sum_list.append(sum(cal_amount))\n",
    "                std.append(statistics.pstdev(cal_amount))\n",
    "                min_list.append(temp_min)\n",
    "        if len(min_list)>0:\n",
    "            from_in_sum_min=sum(min_list)\n",
    "        if len(min_list)<=0:\n",
    "            from_in_sum_min=0\n",
    "        if len(std)>0:\n",
    "            from_in_min_std=min(std)\n",
    "        if len(std)<=0:\n",
    "            from_in_min_std=0\n",
    "        if len(sum_list)>0:\n",
    "            from_in_min_sum=min(sum_list)\n",
    "            from_in_mean_sum=statistics.mean(sum_list)\n",
    "        if len(sum_list)<=0:\n",
    "            from_in_min_sum=0\n",
    "            from_in_mean_sum=0\n",
    "        From_In_Fea_Temp.append(from_in_sum_min)\n",
    "        From_In_Fea_Temp.append(from_in_min_std)\n",
    "        From_In_Fea_Temp.append(from_in_min_sum)\n",
    "        From_In_Fea_Temp.append(from_in_mean_sum)\n",
    "        From_In_Fea.append(From_In_Fea_Temp)\n",
    "\n",
    "    return From_In_Fea\n",
    "\n",
    "\n"
   ],
   "metadata": {
    "collapsed": false,
    "pycharm": {
     "name": "#%%\n"
    }
   }
  },
  {
   "cell_type": "code",
   "execution_count": null,
   "outputs": [],
   "source": [
    "From_In_Fea=getAllFromFriendsInDirectionFeatures(legal_node_list)\n",
    "print(From_In_Fea[1])"
   ],
   "metadata": {
    "collapsed": false,
    "pycharm": {
     "name": "#%%\n"
    }
   }
  }
 ],
 "metadata": {
  "kernelspec": {
   "display_name": "Python 3",
   "language": "python",
   "name": "python3"
  },
  "language_info": {
   "codemirror_mode": {
    "name": "ipython",
    "version": 2
   },
   "file_extension": ".py",
   "mimetype": "text/x-python",
   "name": "python",
   "nbconvert_exporter": "python",
   "pygments_lexer": "ipython2",
   "version": "2.7.6"
  }
 },
 "nbformat": 4,
 "nbformat_minor": 0
}