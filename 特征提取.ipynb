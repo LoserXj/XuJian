{
 "cells": [
  {
   "cell_type": "markdown",
   "source": [
    "# 说明，以下代码环境均是针对于kaggle平台"
   ],
   "metadata": {
    "collapsed": false,
    "pycharm": {
     "name": "#%% md\n"
    }
   }
  },
  {
   "cell_type": "markdown",
   "source": [
    "1. 首先读取相关的文件并确保版本是否符合要求"
   ],
   "metadata": {
    "collapsed": false,
    "pycharm": {
     "name": "#%% md\n"
    }
   }
  },
  {
   "cell_type": "code",
   "execution_count": null,
   "metadata": {
    "collapsed": true,
    "pycharm": {
     "name": "#%%\n"
    }
   },
   "outputs": [],
   "source": [
    "import platform\n",
    "import pickle\n",
    "import networkx as nx"
   ]
  },
  {
   "cell_type": "code",
   "execution_count": null,
   "outputs": [],
   "source": [
    "print(\"python version:\\t\\t\", platform.python_version())\n",
    "print(\"networkx version:\\t\", nx.__version__)"
   ],
   "metadata": {
    "collapsed": false,
    "pycharm": {
     "name": "#%%\n"
    }
   }
  },
  {
   "cell_type": "code",
   "execution_count": null,
   "outputs": [],
   "source": [
    "def load_pickle(fname):\n",
    "    with open(fname, 'rb') as f:\n",
    "        return pickle.load(f)\n",
    "\n",
    "G = load_pickle('../input/ethereum-phishing-transaction-network/Ethereum Phishing Transaction Network/MulDiGraph.pkl')\n",
    "print(nx.info(G))"
   ],
   "metadata": {
    "collapsed": false,
    "pycharm": {
     "name": "#%%\n"
    }
   }
  },
  {
   "cell_type": "markdown",
   "source": [
    "2. 设计代码完成对node data的提取，并进行数据的初步筛选，根据transactions进行筛选，若transactions大于1000或者小于10均除去相关的数据"
   ],
   "metadata": {
    "collapsed": false,
    "pycharm": {
     "name": "#%% md\n"
    }
   }
  },
  {
   "cell_type": "code",
   "execution_count": null,
   "outputs": [],
   "source": [
    "legal_node_set=set()\n",
    "for ind,nd in enumerate(nx.nodes(G)):\n",
    "    count=0\n",
    "    suc=list(G.successors(nd))\n",
    "    pre=list(G.predecessors(nd))\n",
    "    for i in range(len(suc)):\n",
    "        count+=(G.number_of_edges(nd,suc[i]))\n",
    "    for j in range(len(pre)):\n",
    "        count+=(G.number_of_edges(pre[j],nd))\n",
    "    if count<10 or count>1000:\n",
    "        continue\n",
    "    legal_node_set.add((nd,count))\n",
    "print(len(legal_node_set))"
   ],
   "metadata": {
    "collapsed": false,
    "pycharm": {
     "name": "#%%\n"
    }
   }
  },
  {
   "cell_type": "markdown",
   "source": [
    "3. 生成label的csv文件并统计信息"
   ],
   "metadata": {
    "collapsed": false,
    "pycharm": {
     "name": "#%% md\n"
    }
   }
  },
  {
   "cell_type": "code",
   "execution_count": null,
   "outputs": [],
   "source": [
    "import csv\n",
    "legal_node_list=list(legal_node_set)\n",
    "with open('label.csv','w',newline='') as file:\n",
    "    writer=csv.writer(file)\n",
    "    writer.writerow(['account','isp'])\n",
    "    for i in range(len(legal_node_list)):\n",
    "        data=[]\n",
    "        data.append(legal_node_list[i][0])\n",
    "        data.append(G.nodes[legal_node_list[i][0]]['isp'])\n",
    "        writer.writerow(data)"
   ],
   "metadata": {
    "collapsed": false,
    "pycharm": {
     "name": "#%%\n"
    }
   }
  },
  {
   "cell_type": "code",
   "execution_count": null,
   "outputs": [],
   "source": [
    "phishingCount=0\n",
    "for i in range(len(legal_node_list)):\n",
    "    if G.nodes[legal_node_list[i][0]]['isp']==1:\n",
    "        phishingCount+=1\n",
    "print(phishingCount)\n",
    "print(phishingCount/len(legal_node_list))\n",
    "print(len(legal_node_list)-phishingCount)"
   ],
   "metadata": {
    "collapsed": false,
    "pycharm": {
     "name": "#%%\n"
    }
   }
  },
  {
   "cell_type": "markdown",
   "source": [
    "4. 生成对应的node_data特征文件"
   ],
   "metadata": {
    "collapsed": false,
    "pycharm": {
     "name": "#%% md\n"
    }
   }
  },
  {
   "cell_type": "code",
   "execution_count": null,
   "outputs": [],
   "source": [
    "import statistics\n",
    "node_data=[]\n",
    "for i in range(len(legal_node_list)):\n",
    "    node=legal_node_list[i][0]\n",
    "    node_data_temp=[]\n",
    "    time=[]\n",
    "    time_min=99999999\n",
    "    time_max=0\n",
    "    amount=[]\n",
    "    in_time=[]\n",
    "    in_time_min=99999999\n",
    "    in_time_max=0\n",
    "    in_amount=[]\n",
    "    node_set=set()\n",
    "    pre=list(G.predecessors(node))\n",
    "    for j in range(len(pre)):\n",
    "        for v in G[pre[j]][node].values():\n",
    "            in_time.append(v['amount'])\n",
    "            in_amount.append(v['timestamp'])\n",
    "            if v['timestamp']>in_time_max:\n",
    "                in_time_max=v['timestamp']\n",
    "            if v['timestamp']<in_time_min:\n",
    "                in_time_min=v['timestamp']\n",
    "\n",
    "\n",
    "    for i,v in dict(G[node]).items():\n",
    "        node_set.add(i)\n",
    "        for v1 in v.values():\n",
    "            time.append(v1['timestamp'])\n",
    "            amount.append(v1['amount'])\n",
    "            if v1['timestamp']>time_max:\n",
    "                time_max=v1['timestamp']\n",
    "            if v1['timestamp']<time_min:\n",
    "                time_min=v1['timestamp']\n",
    "\n",
    "    if len(time)>0:\n",
    "        out_block_std=statistics.pstdev(time)\n",
    "        out_time_ptp=time_max-time_min\n",
    "        amount_sum=sum(amount)\n",
    "        amount_max=max(amount)\n",
    "        amount_min=min(amount)\n",
    "        amount_mean=statistics.mean(amount)\n",
    "        amount_std=statistics.pstdev(amount)\n",
    "        count=len(time)\n",
    "        unique=len(node_set)\n",
    "        unique_ratio=unique/count\n",
    "\n",
    "    if len(time)<=0 :\n",
    "        out_block_std=0\n",
    "        out_time_ptp=0\n",
    "        amount_sum=0\n",
    "        amount_max=0\n",
    "        amount_min=0\n",
    "        amount_mean=0\n",
    "        amount_std=0\n",
    "        count=0\n",
    "        unique=0\n",
    "        unique_ratio=0\n",
    "\n",
    "    if len(in_time)>0:\n",
    "        in_block_std=statistics.pstdev(in_time)\n",
    "        in_time_ptp=in_time_max-in_time_min\n",
    "        in_amount_sum=sum(in_amount)\n",
    "        in_amount_max=max(in_amount)\n",
    "        in_amount_min=min(in_amount)\n",
    "        in_amount_mean=statistics.mean(in_amount)\n",
    "        in_amount_std=statistics.pstdev(in_amount)\n",
    "        in_count=len(in_time)\n",
    "        in_unique=len(node_set)\n",
    "        in_unique_ratio=in_unique/in_count\n",
    "\n",
    "    if len(in_time)<=0:\n",
    "        in_block_std=0\n",
    "        in_time_ptp=0\n",
    "        in_amount_sum=0\n",
    "        in_amount_max=0\n",
    "        in_amount_min=0\n",
    "        in_amount_mean=0\n",
    "        in_amount_std=0\n",
    "        in_count=0\n",
    "        in_unique=0\n",
    "        in_unique_ratio=0\n",
    "\n",
    "    node_data_temp.append(node)\n",
    "    node_data_temp.append(out_block_std)\n",
    "    node_data_temp.append(out_time_ptp)\n",
    "    node_data_temp.append(amount_sum)\n",
    "    node_data_temp.append(amount_max)\n",
    "    node_data_temp.append(amount_min)\n",
    "    node_data_temp.append(amount_mean)\n",
    "    node_data_temp.append(amount_std)\n",
    "    node_data_temp.append(count)\n",
    "    node_data_temp.append(unique)\n",
    "    node_data_temp.append(unique_ratio)\n",
    "\n",
    "    node_data_temp.append(in_block_std)\n",
    "    node_data_temp.append(in_time_ptp)\n",
    "    node_data_temp.append(in_amount_sum)\n",
    "    node_data_temp.append(in_amount_max)\n",
    "    node_data_temp.append(in_amount_min)\n",
    "    node_data_temp.append(in_amount_mean)\n",
    "    node_data_temp.append(in_amount_std)\n",
    "    node_data_temp.append(in_count)\n",
    "    node_data_temp.append(in_unique)\n",
    "    node_data_temp.append(in_unique_ratio)\n",
    "\n",
    "\n",
    "\n",
    "\n",
    "\n",
    "    node_data.append(node_data_temp)\n",
    "\n",
    "\n"
   ],
   "metadata": {
    "collapsed": false,
    "pycharm": {
     "name": "#%%\n"
    }
   }
  },
  {
   "cell_type": "code",
   "execution_count": null,
   "outputs": [],
   "source": [
    "import csv\n",
    "with open('node_data_features.csv','w',newline='') as file:\n",
    "    writer=csv.writer(file)\n",
    "    writer.writerow(['account','out_block_std','out_time_ptp','out_amount_sum','out_amount_max','out_amount_min'\n",
    "                    ,'out_amount_mean','out_amount_std','out_count','out_unique',\n",
    "                    'out_unique_ratio',\n",
    "                    'in_block_std','in_time_ptp','in_amount_sum','in_amount_max','in_amount_min'\n",
    "                    ,'in_amount_mean','in_amount_std','in_count','in_unique',\n",
    "                    'in_unique_ratio'\n",
    "\n",
    "                    ])\n",
    "    for i in range(len(node_data)):\n",
    "        writer.writerow(node_data[i])"
   ],
   "metadata": {
    "collapsed": false,
    "pycharm": {
     "name": "#%%\n"
    }
   }
  },
  {
   "cell_type": "markdown",
   "source": [
    "5. 验证生成是否有误"
   ],
   "metadata": {
    "collapsed": false,
    "pycharm": {
     "name": "#%% md\n"
    }
   }
  },
  {
   "cell_type": "code",
   "execution_count": null,
   "outputs": [],
   "source": [
    "for i in range(len(legal_node_list)):\n",
    "    if legal_node_list[i][0]!=node_data[i][0] or (legal_node_list[i][1]!=\n",
    "                                                 node_data[i][8]+node_data[i][18]):\n",
    "        print(\"出现错误\")\n",
    "print(\"没问题\")"
   ],
   "metadata": {
    "collapsed": false,
    "pycharm": {
     "name": "#%%\n"
    }
   }
  }
 ],
 "metadata": {
  "kernelspec": {
   "display_name": "Python 3",
   "language": "python",
   "name": "python3"
  },
  "language_info": {
   "codemirror_mode": {
    "name": "ipython",
    "version": 2
   },
   "file_extension": ".py",
   "mimetype": "text/x-python",
   "name": "python",
   "nbconvert_exporter": "python",
   "pygments_lexer": "ipython2",
   "version": "2.7.6"
  }
 },
 "nbformat": 4,
 "nbformat_minor": 0
}