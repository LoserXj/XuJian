{
 "cells": [
  {
   "cell_type": "markdown",
   "source": [
    "1. 了解如何使用数据集和验证机"
   ],
   "metadata": {
    "collapsed": false,
    "pycharm": {
     "name": "#%% md\n"
    }
   }
  },
  {
   "cell_type": "code",
   "execution_count": 4,
   "metadata": {
    "collapsed": true,
    "pycharm": {
     "name": "#%%\n"
    }
   },
   "outputs": [
    {
     "name": "stdout",
     "output_type": "stream",
     "text": [
      "150\n",
      "150\n"
     ]
    }
   ],
   "source": [
    "from sklearn.datasets import load_iris\n",
    "\n",
    "iris = load_iris()\n",
    "x = iris.data\n",
    "y = iris.target\n",
    "# print(x)\n",
    "print(len(x))\n",
    "print(len(y))"
   ]
  },
  {
   "cell_type": "code",
   "execution_count": 1,
   "outputs": [
    {
     "name": "stdout",
     "output_type": "stream",
     "text": [
      "(2600, 27)\n",
      "(2600,)\n"
     ]
    }
   ],
   "source": [
    "import pandas as pd\n",
    "import numpy as np\n",
    "\n",
    "dataset_label=pd.read_csv('../创新实践大三上/数据集/RandomLabel1.csv')\n",
    "dataset_features=pd.read_csv('../创新实践大三上/数据集/node_features.csv')\n",
    "\n",
    "y1=pd.DataFrame(dataset_label)\n",
    "x1=pd.DataFrame(dataset_features)\n",
    "y_array=np.array(y1)\n",
    "x_array=np.array(x1)\n",
    "x=x_array[:,1:]\n",
    "y=y_array[:,1:]\n",
    "y=y.reshape(-1)\n",
    "\n",
    "print(x.shape)\n",
    "print(y.shape)"
   ],
   "metadata": {
    "collapsed": false,
    "pycharm": {
     "name": "#%%\n"
    }
   }
  },
  {
   "cell_type": "code",
   "execution_count": 2,
   "outputs": [
    {
     "name": "stderr",
     "output_type": "stream",
     "text": [
      "D:\\Anaconda3\\envs\\ExercisePytorch\\lib\\site-packages\\sklearn\\model_selection\\_split.py:680: UserWarning: The least populated class in y has only 1 members, which is less than n_splits=6.\n",
      "  warnings.warn(\n",
      "D:\\Anaconda3\\envs\\ExercisePytorch\\lib\\site-packages\\sklearn\\model_selection\\_split.py:680: UserWarning: The least populated class in y has only 1 members, which is less than n_splits=6.\n",
      "  warnings.warn(\n",
      "D:\\Anaconda3\\envs\\ExercisePytorch\\lib\\site-packages\\sklearn\\model_selection\\_split.py:680: UserWarning: The least populated class in y has only 1 members, which is less than n_splits=6.\n",
      "  warnings.warn(\n",
      "D:\\Anaconda3\\envs\\ExercisePytorch\\lib\\site-packages\\sklearn\\model_selection\\_split.py:680: UserWarning: The least populated class in y has only 1 members, which is less than n_splits=6.\n",
      "  warnings.warn(\n",
      "D:\\Anaconda3\\envs\\ExercisePytorch\\lib\\site-packages\\sklearn\\model_selection\\_split.py:680: UserWarning: The least populated class in y has only 1 members, which is less than n_splits=6.\n",
      "  warnings.warn(\n",
      "D:\\Anaconda3\\envs\\ExercisePytorch\\lib\\site-packages\\sklearn\\model_selection\\_split.py:680: UserWarning: The least populated class in y has only 1 members, which is less than n_splits=6.\n",
      "  warnings.warn(\n",
      "D:\\Anaconda3\\envs\\ExercisePytorch\\lib\\site-packages\\sklearn\\model_selection\\_split.py:680: UserWarning: The least populated class in y has only 1 members, which is less than n_splits=6.\n",
      "  warnings.warn(\n",
      "D:\\Anaconda3\\envs\\ExercisePytorch\\lib\\site-packages\\sklearn\\model_selection\\_split.py:680: UserWarning: The least populated class in y has only 1 members, which is less than n_splits=6.\n",
      "  warnings.warn(\n",
      "D:\\Anaconda3\\envs\\ExercisePytorch\\lib\\site-packages\\sklearn\\model_selection\\_split.py:680: UserWarning: The least populated class in y has only 1 members, which is less than n_splits=6.\n",
      "  warnings.warn(\n",
      "D:\\Anaconda3\\envs\\ExercisePytorch\\lib\\site-packages\\sklearn\\model_selection\\_split.py:680: UserWarning: The least populated class in y has only 1 members, which is less than n_splits=6.\n",
      "  warnings.warn(\n",
      "D:\\Anaconda3\\envs\\ExercisePytorch\\lib\\site-packages\\sklearn\\model_selection\\_split.py:680: UserWarning: The least populated class in y has only 1 members, which is less than n_splits=6.\n",
      "  warnings.warn(\n",
      "D:\\Anaconda3\\envs\\ExercisePytorch\\lib\\site-packages\\sklearn\\model_selection\\_split.py:680: UserWarning: The least populated class in y has only 1 members, which is less than n_splits=6.\n",
      "  warnings.warn(\n",
      "D:\\Anaconda3\\envs\\ExercisePytorch\\lib\\site-packages\\sklearn\\model_selection\\_split.py:680: UserWarning: The least populated class in y has only 1 members, which is less than n_splits=6.\n",
      "  warnings.warn(\n",
      "D:\\Anaconda3\\envs\\ExercisePytorch\\lib\\site-packages\\sklearn\\model_selection\\_split.py:680: UserWarning: The least populated class in y has only 1 members, which is less than n_splits=6.\n",
      "  warnings.warn(\n",
      "D:\\Anaconda3\\envs\\ExercisePytorch\\lib\\site-packages\\sklearn\\model_selection\\_split.py:680: UserWarning: The least populated class in y has only 1 members, which is less than n_splits=6.\n",
      "  warnings.warn(\n",
      "D:\\Anaconda3\\envs\\ExercisePytorch\\lib\\site-packages\\sklearn\\model_selection\\_split.py:680: UserWarning: The least populated class in y has only 1 members, which is less than n_splits=6.\n",
      "  warnings.warn(\n",
      "D:\\Anaconda3\\envs\\ExercisePytorch\\lib\\site-packages\\sklearn\\model_selection\\_split.py:680: UserWarning: The least populated class in y has only 1 members, which is less than n_splits=6.\n",
      "  warnings.warn(\n",
      "D:\\Anaconda3\\envs\\ExercisePytorch\\lib\\site-packages\\sklearn\\model_selection\\_split.py:680: UserWarning: The least populated class in y has only 1 members, which is less than n_splits=6.\n",
      "  warnings.warn(\n",
      "D:\\Anaconda3\\envs\\ExercisePytorch\\lib\\site-packages\\sklearn\\model_selection\\_split.py:680: UserWarning: The least populated class in y has only 1 members, which is less than n_splits=6.\n",
      "  warnings.warn(\n",
      "D:\\Anaconda3\\envs\\ExercisePytorch\\lib\\site-packages\\sklearn\\model_selection\\_split.py:680: UserWarning: The least populated class in y has only 1 members, which is less than n_splits=6.\n",
      "  warnings.warn(\n",
      "D:\\Anaconda3\\envs\\ExercisePytorch\\lib\\site-packages\\sklearn\\model_selection\\_split.py:680: UserWarning: The least populated class in y has only 1 members, which is less than n_splits=6.\n",
      "  warnings.warn(\n",
      "D:\\Anaconda3\\envs\\ExercisePytorch\\lib\\site-packages\\sklearn\\model_selection\\_split.py:680: UserWarning: The least populated class in y has only 1 members, which is less than n_splits=6.\n",
      "  warnings.warn(\n",
      "D:\\Anaconda3\\envs\\ExercisePytorch\\lib\\site-packages\\sklearn\\model_selection\\_split.py:680: UserWarning: The least populated class in y has only 1 members, which is less than n_splits=6.\n",
      "  warnings.warn(\n",
      "D:\\Anaconda3\\envs\\ExercisePytorch\\lib\\site-packages\\sklearn\\model_selection\\_split.py:680: UserWarning: The least populated class in y has only 1 members, which is less than n_splits=6.\n",
      "  warnings.warn(\n",
      "D:\\Anaconda3\\envs\\ExercisePytorch\\lib\\site-packages\\sklearn\\model_selection\\_split.py:680: UserWarning: The least populated class in y has only 1 members, which is less than n_splits=6.\n",
      "  warnings.warn(\n",
      "D:\\Anaconda3\\envs\\ExercisePytorch\\lib\\site-packages\\sklearn\\model_selection\\_split.py:680: UserWarning: The least populated class in y has only 1 members, which is less than n_splits=6.\n",
      "  warnings.warn(\n",
      "D:\\Anaconda3\\envs\\ExercisePytorch\\lib\\site-packages\\sklearn\\model_selection\\_split.py:680: UserWarning: The least populated class in y has only 1 members, which is less than n_splits=6.\n",
      "  warnings.warn(\n",
      "D:\\Anaconda3\\envs\\ExercisePytorch\\lib\\site-packages\\sklearn\\model_selection\\_split.py:680: UserWarning: The least populated class in y has only 1 members, which is less than n_splits=6.\n",
      "  warnings.warn(\n",
      "D:\\Anaconda3\\envs\\ExercisePytorch\\lib\\site-packages\\sklearn\\model_selection\\_split.py:680: UserWarning: The least populated class in y has only 1 members, which is less than n_splits=6.\n",
      "  warnings.warn(\n",
      "D:\\Anaconda3\\envs\\ExercisePytorch\\lib\\site-packages\\sklearn\\model_selection\\_split.py:680: UserWarning: The least populated class in y has only 1 members, which is less than n_splits=6.\n",
      "  warnings.warn(\n"
     ]
    },
    {
     "data": {
      "text/plain": "<Figure size 640x480 with 1 Axes>",
      "image/png": "[encoded data removed]"
     },
     "metadata": {},
     "output_type": "display_data"
    }
   ],
   "source": [
    "from sklearn.model_selection  import cross_val_score\n",
    "import matplotlib.pyplot as plt\n",
    "from sklearn.neighbors import KNeighborsClassifier\n",
    "\n",
    "k_range = range(1, 31)\n",
    "k_error = []\n",
    "for k in k_range:\n",
    "    knn = KNeighborsClassifier(n_neighbors=k)\n",
    "     #cv参数决定数据集划分比例，这里是按照5:1划分训练集和测试集\n",
    "    scores = cross_val_score(knn, x, y.astype(\"int\"), cv=6, scoring='accuracy')\n",
    "    k_error.append(1 - scores.mean())\n",
    "#画图，x轴为k值，y值为误差值\n",
    "plt.plot(k_range, k_error)\n",
    "plt.xlabel('Value of K for KNN')\n",
    "plt.ylabel('Error')\n",
    "plt.show()\n"
   ],
   "metadata": {
    "collapsed": false,
    "pycharm": {
     "name": "#%%\n"
    }
   }
  },
  {
   "cell_type": "code",
   "execution_count": 9,
   "outputs": [
    {
     "name": "stderr",
     "output_type": "stream",
     "text": [
      "D:\\Anaconda3\\envs\\ExercisePytorch\\lib\\site-packages\\sklearn\\metrics\\_ranking.py:1016: UndefinedMetricWarning: No positive samples in y_true, true positive value should be meaningless\n",
      "  warnings.warn(\n",
      "D:\\Anaconda3\\envs\\ExercisePytorch\\lib\\site-packages\\sklearn\\metrics\\_classification.py:1327: UndefinedMetricWarning: Precision and F-score are ill-defined and being set to 0.0 in labels with no predicted samples. Use `zero_division` parameter to control this behavior.\n",
      "  _warn_prf(average, modifier, msg_start, len(result))\n",
      "D:\\Anaconda3\\envs\\ExercisePytorch\\lib\\site-packages\\sklearn\\metrics\\_classification.py:1327: UndefinedMetricWarning: Precision and F-score are ill-defined and being set to 0.0 in labels with no predicted samples. Use `zero_division` parameter to control this behavior.\n",
      "  _warn_prf(average, modifier, msg_start, len(result))\n",
      "D:\\Anaconda3\\envs\\ExercisePytorch\\lib\\site-packages\\sklearn\\metrics\\_classification.py:1327: UndefinedMetricWarning: Precision and F-score are ill-defined and being set to 0.0 in labels with no predicted samples. Use `zero_division` parameter to control this behavior.\n",
      "  _warn_prf(average, modifier, msg_start, len(result))\n",
      "D:\\Anaconda3\\envs\\ExercisePytorch\\lib\\site-packages\\sklearn\\metrics\\_ranking.py:1016: UndefinedMetricWarning: No positive samples in y_true, true positive value should be meaningless\n",
      "  warnings.warn(\n",
      "D:\\Anaconda3\\envs\\ExercisePytorch\\lib\\site-packages\\sklearn\\metrics\\_ranking.py:1016: UndefinedMetricWarning: No positive samples in y_true, true positive value should be meaningless\n",
      "  warnings.warn(\n",
      "D:\\Anaconda3\\envs\\ExercisePytorch\\lib\\site-packages\\sklearn\\metrics\\_classification.py:1327: UndefinedMetricWarning: Precision and F-score are ill-defined and being set to 0.0 in labels with no predicted samples. Use `zero_division` parameter to control this behavior.\n",
      "  _warn_prf(average, modifier, msg_start, len(result))\n",
      "D:\\Anaconda3\\envs\\ExercisePytorch\\lib\\site-packages\\sklearn\\metrics\\_classification.py:1327: UndefinedMetricWarning: Precision and F-score are ill-defined and being set to 0.0 in labels with no predicted samples. Use `zero_division` parameter to control this behavior.\n",
      "  _warn_prf(average, modifier, msg_start, len(result))\n",
      "D:\\Anaconda3\\envs\\ExercisePytorch\\lib\\site-packages\\sklearn\\metrics\\_classification.py:1327: UndefinedMetricWarning: Precision and F-score are ill-defined and being set to 0.0 in labels with no predicted samples. Use `zero_division` parameter to control this behavior.\n",
      "  _warn_prf(average, modifier, msg_start, len(result))\n",
      "D:\\Anaconda3\\envs\\ExercisePytorch\\lib\\site-packages\\sklearn\\metrics\\_ranking.py:1016: UndefinedMetricWarning: No positive samples in y_true, true positive value should be meaningless\n",
      "  warnings.warn(\n",
      "D:\\Anaconda3\\envs\\ExercisePytorch\\lib\\site-packages\\sklearn\\metrics\\_classification.py:1327: UndefinedMetricWarning: Precision and F-score are ill-defined and being set to 0.0 in labels with no predicted samples. Use `zero_division` parameter to control this behavior.\n",
      "  _warn_prf(average, modifier, msg_start, len(result))\n"
     ]
    },
    {
     "name": "stdout",
     "output_type": "stream",
     "text": [
      "测-----试----- 0\n",
      "nan\n",
      "              precision    recall  f1-score   support\n",
      "\n",
      "           0       1.00      1.00      1.00      1949\n",
      "           1       0.00      0.00      0.00         1\n",
      "\n",
      "    accuracy                           1.00      1950\n",
      "   macro avg       0.50      0.50      0.50      1950\n",
      "weighted avg       1.00      1.00      1.00      1950\n",
      "\n",
      "测-----试----- 1\n",
      "nan\n",
      "              precision    recall  f1-score   support\n",
      "\n",
      "           0       1.00      1.00      1.00      1690\n",
      "\n",
      "    accuracy                           1.00      1690\n",
      "   macro avg       1.00      1.00      1.00      1690\n",
      "weighted avg       1.00      1.00      1.00      1690\n",
      "\n",
      "测-----试----- 2\n",
      "nan\n",
      "              precision    recall  f1-score   support\n",
      "\n",
      "           0       1.00      1.00      1.00      1430\n",
      "           1       0.00      0.00      0.00         1\n",
      "\n",
      "    accuracy                           1.00      1431\n",
      "   macro avg       0.50      0.50      0.50      1431\n",
      "weighted avg       1.00      1.00      1.00      1431\n",
      "\n",
      "测-----试----- 3\n",
      "nan\n",
      "              precision    recall  f1-score   support\n",
      "\n",
      "           0       1.00      1.00      1.00      1169\n",
      "           1       0.00      0.00      0.00         1\n",
      "\n",
      "    accuracy                           1.00      1170\n",
      "   macro avg       0.50      0.50      0.50      1170\n",
      "weighted avg       1.00      1.00      1.00      1170\n",
      "\n",
      "测-----试----- 4\n",
      "nan\n",
      "              precision    recall  f1-score   support\n",
      "\n",
      "           0       1.00      1.00      1.00       909\n",
      "           1       0.00      0.00      0.00         1\n",
      "\n",
      "    accuracy                           1.00       910\n",
      "   macro avg       0.50      0.50      0.50       910\n",
      "weighted avg       1.00      1.00      1.00       910\n",
      "\n",
      "测-----试----- 5\n",
      "nan\n",
      "              precision    recall  f1-score   support\n",
      "\n",
      "           0       1.00      1.00      1.00       650\n",
      "\n",
      "    accuracy                           1.00       650\n",
      "   macro avg       1.00      1.00      1.00       650\n",
      "weighted avg       1.00      1.00      1.00       650\n",
      "\n"
     ]
    },
    {
     "name": "stderr",
     "output_type": "stream",
     "text": [
      "D:\\Anaconda3\\envs\\ExercisePytorch\\lib\\site-packages\\sklearn\\metrics\\_classification.py:1327: UndefinedMetricWarning: Precision and F-score are ill-defined and being set to 0.0 in labels with no predicted samples. Use `zero_division` parameter to control this behavior.\n",
      "  _warn_prf(average, modifier, msg_start, len(result))\n",
      "D:\\Anaconda3\\envs\\ExercisePytorch\\lib\\site-packages\\sklearn\\metrics\\_classification.py:1327: UndefinedMetricWarning: Precision and F-score are ill-defined and being set to 0.0 in labels with no predicted samples. Use `zero_division` parameter to control this behavior.\n",
      "  _warn_prf(average, modifier, msg_start, len(result))\n",
      "D:\\Anaconda3\\envs\\ExercisePytorch\\lib\\site-packages\\sklearn\\metrics\\_ranking.py:1016: UndefinedMetricWarning: No positive samples in y_true, true positive value should be meaningless\n",
      "  warnings.warn(\n",
      "D:\\Anaconda3\\envs\\ExercisePytorch\\lib\\site-packages\\sklearn\\metrics\\_classification.py:1327: UndefinedMetricWarning: Precision and F-score are ill-defined and being set to 0.0 in labels with no predicted samples. Use `zero_division` parameter to control this behavior.\n",
      "  _warn_prf(average, modifier, msg_start, len(result))\n",
      "D:\\Anaconda3\\envs\\ExercisePytorch\\lib\\site-packages\\sklearn\\metrics\\_classification.py:1327: UndefinedMetricWarning: Precision and F-score are ill-defined and being set to 0.0 in labels with no predicted samples. Use `zero_division` parameter to control this behavior.\n",
      "  _warn_prf(average, modifier, msg_start, len(result))\n",
      "D:\\Anaconda3\\envs\\ExercisePytorch\\lib\\site-packages\\sklearn\\metrics\\_classification.py:1327: UndefinedMetricWarning: Precision and F-score are ill-defined and being set to 0.0 in labels with no predicted samples. Use `zero_division` parameter to control this behavior.\n",
      "  _warn_prf(average, modifier, msg_start, len(result))\n",
      "D:\\Anaconda3\\envs\\ExercisePytorch\\lib\\site-packages\\sklearn\\metrics\\_ranking.py:1016: UndefinedMetricWarning: No positive samples in y_true, true positive value should be meaningless\n",
      "  warnings.warn(\n"
     ]
    }
   ],
   "source": [
    "from sklearn.neighbors import KNeighborsClassifier\n",
    "from sklearn.model_selection import train_test_split\n",
    "from sklearn.metrics import classification_report\n",
    "from sklearn import metrics\n",
    "\n",
    "k_select=5  # 值来源于上图的输出结果\n",
    "test_size=[0.75,0.65,0.55,0.45,0.35,0.25]\n",
    "knn_auc=[]\n",
    "knn_recall=[]\n",
    "knn_precision=[]\n",
    "knn_f1_score=[]\n",
    "\n",
    "for i in range(len(test_size)):\n",
    "    x_train, x_test, y_train, y_test = train_test_split(x,y,test_size=test_size[i])\n",
    "    knn = KNeighborsClassifier(n_neighbors=k_select)\n",
    "    knn.fit(x_train,y_train.astype(\"int\"))\n",
    "    y_pre=knn.predict(x_test)\n",
    "    fpr,tpr,thresholds = metrics.roc_curve(y_test.astype(\"int\"),y_pre.astype(\"int\"),pos_label=2)\n",
    "    print(\"测-----试-----\",i)\n",
    "    print(metrics.auc(fpr,tpr))\n",
    "    print(classification_report(y_test.astype(\"int\"),y_pre.astype(\"int\")))\n",
    "\n",
    "\n",
    "\n",
    "\n"
   ],
   "metadata": {
    "collapsed": false,
    "pycharm": {
     "name": "#%%\n"
    }
   }
  },
  {
   "cell_type": "markdown",
   "source": [
    "2. 使用小的数据集测试代码是否有问题"
   ],
   "metadata": {
    "collapsed": false,
    "pycharm": {
     "name": "#%% md\n"
    }
   }
  },
  {
   "cell_type": "code",
   "execution_count": 12,
   "outputs": [
    {
     "name": "stdout",
     "output_type": "stream",
     "text": [
      "测-----试----- 1\n",
      "1.0\n"
     ]
    },
    {
     "ename": "ValueError",
     "evalue": "Classification metrics can't handle a mix of multiclass and continuous targets",
     "output_type": "error",
     "traceback": [
      "\u001B[1;31m---------------------------------------------------------------------------\u001B[0m",
      "\u001B[1;31mValueError\u001B[0m                                Traceback (most recent call last)",
      "Input \u001B[1;32mIn [12]\u001B[0m, in \u001B[0;36m<cell line: 41>\u001B[1;34m()\u001B[0m\n\u001B[0;32m     39\u001B[0m \u001B[38;5;28mprint\u001B[39m(\u001B[38;5;124m\"\u001B[39m\u001B[38;5;124m测-----试-----\u001B[39m\u001B[38;5;124m\"\u001B[39m,\u001B[38;5;241m1\u001B[39m)\n\u001B[0;32m     40\u001B[0m \u001B[38;5;28mprint\u001B[39m(metrics\u001B[38;5;241m.\u001B[39mauc(fpr,tpr))\n\u001B[1;32m---> 41\u001B[0m \u001B[38;5;28mprint\u001B[39m(\u001B[43mclassification_report\u001B[49m\u001B[43m(\u001B[49m\u001B[43miris_y_test\u001B[49m\u001B[43m,\u001B[49m\u001B[43my_pre\u001B[49m\u001B[43m)\u001B[49m)\n",
      "File \u001B[1;32mD:\\Anaconda3\\envs\\ExercisePytorch\\lib\\site-packages\\sklearn\\metrics\\_classification.py:2125\u001B[0m, in \u001B[0;36mclassification_report\u001B[1;34m(y_true, y_pred, labels, target_names, sample_weight, digits, output_dict, zero_division)\u001B[0m\n\u001B[0;32m   2010\u001B[0m \u001B[38;5;28;01mdef\u001B[39;00m \u001B[38;5;21mclassification_report\u001B[39m(\n\u001B[0;32m   2011\u001B[0m     y_true,\n\u001B[0;32m   2012\u001B[0m     y_pred,\n\u001B[1;32m   (...)\u001B[0m\n\u001B[0;32m   2019\u001B[0m     zero_division\u001B[38;5;241m=\u001B[39m\u001B[38;5;124m\"\u001B[39m\u001B[38;5;124mwarn\u001B[39m\u001B[38;5;124m\"\u001B[39m,\n\u001B[0;32m   2020\u001B[0m ):\n\u001B[0;32m   2021\u001B[0m     \u001B[38;5;124;03m\"\"\"Build a text report showing the main classification metrics.\u001B[39;00m\n\u001B[0;32m   2022\u001B[0m \n\u001B[0;32m   2023\u001B[0m \u001B[38;5;124;03m    Read more in the :ref:`User Guide <classification_report>`.\u001B[39;00m\n\u001B[1;32m   (...)\u001B[0m\n\u001B[0;32m   2122\u001B[0m \u001B[38;5;124;03m    <BLANKLINE>\u001B[39;00m\n\u001B[0;32m   2123\u001B[0m \u001B[38;5;124;03m    \"\"\"\u001B[39;00m\n\u001B[1;32m-> 2125\u001B[0m     y_type, y_true, y_pred \u001B[38;5;241m=\u001B[39m \u001B[43m_check_targets\u001B[49m\u001B[43m(\u001B[49m\u001B[43my_true\u001B[49m\u001B[43m,\u001B[49m\u001B[43m \u001B[49m\u001B[43my_pred\u001B[49m\u001B[43m)\u001B[49m\n\u001B[0;32m   2127\u001B[0m     \u001B[38;5;28;01mif\u001B[39;00m labels \u001B[38;5;129;01mis\u001B[39;00m \u001B[38;5;28;01mNone\u001B[39;00m:\n\u001B[0;32m   2128\u001B[0m         labels \u001B[38;5;241m=\u001B[39m unique_labels(y_true, y_pred)\n",
      "File \u001B[1;32mD:\\Anaconda3\\envs\\ExercisePytorch\\lib\\site-packages\\sklearn\\metrics\\_classification.py:93\u001B[0m, in \u001B[0;36m_check_targets\u001B[1;34m(y_true, y_pred)\u001B[0m\n\u001B[0;32m     90\u001B[0m     y_type \u001B[38;5;241m=\u001B[39m {\u001B[38;5;124m\"\u001B[39m\u001B[38;5;124mmulticlass\u001B[39m\u001B[38;5;124m\"\u001B[39m}\n\u001B[0;32m     92\u001B[0m \u001B[38;5;28;01mif\u001B[39;00m \u001B[38;5;28mlen\u001B[39m(y_type) \u001B[38;5;241m>\u001B[39m \u001B[38;5;241m1\u001B[39m:\n\u001B[1;32m---> 93\u001B[0m     \u001B[38;5;28;01mraise\u001B[39;00m \u001B[38;5;167;01mValueError\u001B[39;00m(\n\u001B[0;32m     94\u001B[0m         \u001B[38;5;124m\"\u001B[39m\u001B[38;5;124mClassification metrics can\u001B[39m\u001B[38;5;124m'\u001B[39m\u001B[38;5;124mt handle a mix of \u001B[39m\u001B[38;5;132;01m{0}\u001B[39;00m\u001B[38;5;124m and \u001B[39m\u001B[38;5;132;01m{1}\u001B[39;00m\u001B[38;5;124m targets\u001B[39m\u001B[38;5;124m\"\u001B[39m\u001B[38;5;241m.\u001B[39mformat(\n\u001B[0;32m     95\u001B[0m             type_true, type_pred\n\u001B[0;32m     96\u001B[0m         )\n\u001B[0;32m     97\u001B[0m     )\n\u001B[0;32m     99\u001B[0m \u001B[38;5;66;03m# We can't have more than one value on y_type => The set is no more needed\u001B[39;00m\n\u001B[0;32m    100\u001B[0m y_type \u001B[38;5;241m=\u001B[39m y_type\u001B[38;5;241m.\u001B[39mpop()\n",
      "\u001B[1;31mValueError\u001B[0m: Classification metrics can't handle a mix of multiclass and continuous targets"
     ]
    }
   ],
   "source": [
    "#coding:utf-8\n",
    "from sklearn.linear_model import LinearRegression  #导入线性回归模型\n",
    "from sklearn import datasets #sk-learn 内置数据库\n",
    "import numpy as np\n",
    "from sklearn import metrics\n",
    "from sklearn.neighbors import KNeighborsClassifier\n",
    "from sklearn.metrics import classification_report\n",
    "'''KNN算法'''\n",
    "iris = datasets.load_iris() #内置的鸢尾花卉数据集\n",
    "#数据集包含150个数据集，分为3类，每类50个数据,\n",
    "#可通过花萼长度，花萼宽度，花瓣长度，花瓣宽度4个特征预测鸢尾花卉属于\n",
    "#(Setosa，Versicolour，Virginica)三个种类中的哪一类\n",
    "iris_X,iris_y = iris.data,iris.target #数据集及其对应的分类标签\n",
    "# 将数据集随机分为训练数据集和测试数据集\n",
    "np.random.seed(0)\n",
    "indices = np.random.permutation(len(iris_X))\n",
    "#用于训练模型\n",
    "iris_X_train = iris_X[indices[:-10]]\n",
    "iris_y_train = iris_y[indices[:-10]]\n",
    "#用于测试模型\n",
    "iris_X_test  = iris_X[indices[-10:]]\n",
    "iris_y_test  = iris_y[indices[-10:]]\n",
    "\n",
    "# knn = KNeighborsClassifier()\n",
    "# knn.fit(iris_X_train,iris_y_train)\n",
    "# prediction = knn.predict(iris_X_test)\n",
    "# fpr,tpr,thresholds = metrics.roc_curve(iris_y_test,prediction,pos_label=2)\n",
    "\n",
    "\n",
    "\n",
    "# print(metrics.auc(fpr,tpr))\n",
    "# print(classification_report(iris_y_test,prediction))\n",
    "\n",
    "\n",
    "\n"
   ],
   "metadata": {
    "collapsed": false,
    "pycharm": {
     "name": "#%%\n"
    }
   }
  },
  {
   "cell_type": "markdown",
   "source": [
    "3. 尝试线性回归算法计算"
   ],
   "metadata": {
    "collapsed": false,
    "pycharm": {
     "name": "#%% md\n"
    }
   }
  },
  {
   "cell_type": "code",
   "execution_count": null,
   "outputs": [],
   "source": [],
   "metadata": {
    "collapsed": false,
    "pycharm": {
     "name": "#%%\n"
    }
   }
  },
  {
   "cell_type": "markdown",
   "source": [
    "4. 简单尝试数据的可视化"
   ],
   "metadata": {
    "collapsed": false,
    "pycharm": {
     "name": "#%% md\n"
    }
   }
  },
  {
   "cell_type": "code",
   "execution_count": 11,
   "outputs": [
    {
     "name": "stdout",
     "output_type": "stream",
     "text": [
      "[[1.00260811]\n",
      " [1.08884505]\n",
      " [0.77355051]\n",
      " [1.00817609]\n",
      " [0.73932355]\n",
      " [0.88525681]\n",
      " [1.07003743]\n",
      " [0.60435542]\n",
      " [1.1077212 ]\n",
      " [0.61727637]\n",
      " [0.5312585 ]\n",
      " [0.97179442]\n",
      " [0.74723825]\n",
      " [0.90881147]\n",
      " [0.63796887]\n",
      " [0.82071381]\n",
      " [0.63691259]\n",
      " [0.69877635]\n",
      " [1.09458088]\n",
      " [0.78061915]\n",
      " [0.57551475]\n",
      " [0.61634707]\n",
      " [0.9527837 ]\n",
      " [0.68402843]\n",
      " [0.8701237 ]\n",
      " [1.08821562]\n",
      " [1.13139134]\n",
      " [0.45922256]\n",
      " [1.00080858]\n",
      " [0.8428323 ]\n",
      " [0.47855056]\n",
      " [0.99373967]\n",
      " [0.69261162]\n",
      " [0.76138267]\n",
      " [0.89411508]\n",
      " [0.96558731]\n",
      " [0.87054788]\n",
      " [0.96476951]\n",
      " [0.69722844]\n",
      " [1.07060473]\n",
      " [1.04450193]\n",
      " [0.68127578]\n",
      " [0.91372521]\n",
      " [0.92212874]\n",
      " [0.93141951]\n",
      " [0.90561483]\n",
      " [0.87418571]\n",
      " [0.56624803]\n",
      " [0.9378126 ]\n",
      " [0.87432891]\n",
      " [0.67525914]\n",
      " [0.9382454 ]\n",
      " [0.87690469]\n",
      " [0.55904555]\n",
      " [0.4658641 ]\n",
      " [0.92605373]\n",
      " [1.0712889 ]\n",
      " [0.57868445]\n",
      " [0.75874663]\n",
      " [0.80207835]\n",
      " [1.06727473]\n",
      " [0.72739777]\n",
      " [0.97974248]\n",
      " [0.94057759]\n",
      " [0.60362405]\n",
      " [0.82825667]\n",
      " [0.73846935]\n",
      " [0.72703579]\n",
      " [0.79218256]\n",
      " [0.83581709]\n",
      " [0.6830298 ]\n",
      " [1.06263626]\n",
      " [0.59393041]\n",
      " [1.06666618]\n",
      " [1.11838942]\n",
      " [0.55010208]\n",
      " [1.06881407]\n",
      " [0.62410185]\n",
      " [0.66572352]\n",
      " [0.84966693]\n",
      " [0.93820528]\n",
      " [0.86070917]\n",
      " [0.72931115]\n",
      " [1.06704036]\n",
      " [0.5348287 ]\n",
      " [0.61876317]\n",
      " [0.58671851]\n",
      " [0.80425128]\n",
      " [0.61298854]\n",
      " [1.04469721]\n",
      " [0.54598784]\n",
      " [1.0494174 ]\n",
      " [0.70723158]\n",
      " [0.72032466]\n",
      " [0.75653383]\n",
      " [0.86861373]\n",
      " [1.10724462]\n",
      " [1.02670535]\n",
      " [0.96075395]\n",
      " [0.60092107]]\n"
     ]
    }
   ],
   "source": [
    "from sklearn.linear_model import LinearRegression  #导入线性回归模型\n",
    "\n",
    "test_size=[0.75,0.65,0.55,0.45,0.35,0.25]\n",
    "\n",
    "for i in range(len(test_size)):\n",
    "    x_train, x_test, y_train, y_test = train_test_split(x,y,test_size[i])\n",
    "    model = LinearRegression()  #创建线性回归对象\n",
    "    model.fit(x_train,y_train)\n",
    "    y_pre=model.predict(x_test)\n",
    "    fpr,tpr,thresholds = metrics.roc_curve(y_test,y_pre,pos_label=2)\n",
    "    print(\"测-----试-----\",i)\n",
    "    print(metrics.auc(fpr,tpr))\n",
    "    print(classification_report(y_test,y_pre))\n"
   ],
   "metadata": {
    "collapsed": false,
    "pycharm": {
     "name": "#%%\n"
    }
   }
  },
  {
   "cell_type": "markdown",
   "source": [],
   "metadata": {
    "collapsed": false,
    "pycharm": {
     "name": "#%% md\n"
    }
   }
  },
  {
   "cell_type": "code",
   "execution_count": null,
   "outputs": [],
   "source": [],
   "metadata": {
    "collapsed": false,
    "pycharm": {
     "name": "#%%\n"
    }
   }
  }
 ],
 "metadata": {
  "kernelspec": {
   "display_name": "Python 3",
   "language": "python",
   "name": "python3"
  },
  "language_info": {
   "codemirror_mode": {
    "name": "ipython",
    "version": 2
   },
   "file_extension": ".py",
   "mimetype": "text/x-python",
   "name": "python",
   "nbconvert_exporter": "python",
   "pygments_lexer": "ipython2",
   "version": "2.7.6"
  }
 },
 "nbformat": 4,
 "nbformat_minor": 0
}